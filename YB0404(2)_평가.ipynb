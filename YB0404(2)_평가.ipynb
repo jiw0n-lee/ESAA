{
  "nbformat": 4,
  "nbformat_minor": 0,
  "metadata": {
    "colab": {
      "provenance": [],
      "include_colab_link": true
    },
    "kernelspec": {
      "name": "python3",
      "display_name": "Python 3"
    },
    "language_info": {
      "name": "python"
    }
  },
  "cells": [
    {
      "cell_type": "markdown",
      "metadata": {
        "id": "view-in-github",
        "colab_type": "text"
      },
      "source": [
        "<a href=\"https://colab.research.google.com/github/jiw0n-lee/ESAA/blob/main/YB0404(2)_%E1%84%91%E1%85%A7%E1%86%BC%E1%84%80%E1%85%A1.ipynb\" target=\"_parent\"><img src=\"https://colab.research.google.com/assets/colab-badge.svg\" alt=\"Open In Colab\"/></a>"
      ]
    },
    {
      "cell_type": "code",
      "metadata": {
        "id": "4Zqc4O_BfWqZ",
        "colab": {
          "base_uri": "https://localhost:8080/"
        },
        "outputId": "dad07b01-c4e7-4b06-9c30-067a62824285"
      },
      "source": [
        "# 모듈 및 데이터 로드\n",
        "from sklearn.datasets import load_breast_cancer\n",
        "from sklearn.linear_model import LogisticRegression\n",
        "\n",
        "data = load_breast_cancer()\n",
        "\n",
        "# x, y 데이터 생성\n",
        "X = data.data\n",
        "\n",
        "# 악성을 1, 양성을 0으로\n",
        "y = 1 - data.target\n",
        "\n",
        "# 특징으로 사용할 데이터를 평균으로 구분하는 10개 열로 축소\n",
        "X = X[:, :10]\n",
        "\n",
        "# 로지스틱 회귀 모델 생성\n",
        "model_lor = LogisticRegression(solver = 'lbfgs')\n",
        "model_lor.fit(X,y)\n",
        "y_pred = model_lor.predict(X)"
      ],
      "execution_count": 1,
      "outputs": [
        {
          "output_type": "stream",
          "name": "stderr",
          "text": [
            "/usr/local/lib/python3.11/dist-packages/sklearn/linear_model/_logistic.py:465: ConvergenceWarning: lbfgs failed to converge (status=1):\n",
            "STOP: TOTAL NO. of ITERATIONS REACHED LIMIT.\n",
            "\n",
            "Increase the number of iterations (max_iter) or scale the data as shown in:\n",
            "    https://scikit-learn.org/stable/modules/preprocessing.html\n",
            "Please also refer to the documentation for alternative solver options:\n",
            "    https://scikit-learn.org/stable/modules/linear_model.html#logistic-regression\n",
            "  n_iter_i = _check_optimize_result(\n"
          ]
        }
      ]
    },
    {
      "cell_type": "markdown",
      "metadata": {
        "id": "faoAfc1ZgAcq"
      },
      "source": [
        "* 오차 행렬(혼동 행렬) 생성"
      ]
    },
    {
      "cell_type": "code",
      "metadata": {
        "id": "JdML8YM0gBtu",
        "colab": {
          "base_uri": "https://localhost:8080/"
        },
        "outputId": "ebf19645-dbd8-45ac-e7fb-0002f4a5265f"
      },
      "source": [
        "# 종속 변수와 예측 결과로 혼동 행렬 생성\n",
        "\n",
        "# 혼동 행렬 생성\n",
        "from sklearn.metrics import confusion_matrix\n",
        "cm = confusion_matrix(y, y_pred)\n",
        "\n",
        "# 출력\n",
        "print(\"Confusion Matrix:\")\n",
        "print(cm)"
      ],
      "execution_count": 2,
      "outputs": [
        {
          "output_type": "stream",
          "name": "stdout",
          "text": [
            "Confusion Matrix:\n",
            "[[337  20]\n",
            " [ 30 182]]\n"
          ]
        }
      ]
    },
    {
      "cell_type": "markdown",
      "metadata": {
        "id": "xbcK3rT-gFRk"
      },
      "source": [
        "* 정확도"
      ]
    },
    {
      "cell_type": "code",
      "metadata": {
        "id": "NLiXFuYvgI1e",
        "colab": {
          "base_uri": "https://localhost:8080/"
        },
        "outputId": "fc6090c9-305f-43a3-99e9-276b31a550b8"
      },
      "source": [
        "from sklearn.metrics import accuracy_score\n",
        "\n",
        "accuracy = accuracy_score(y, y_pred)\n",
        "print(\"Accuracy:\", accuracy)"
      ],
      "execution_count": 3,
      "outputs": [
        {
          "output_type": "stream",
          "name": "stdout",
          "text": [
            "Accuracy: 0.9121265377855887\n"
          ]
        }
      ]
    },
    {
      "cell_type": "markdown",
      "metadata": {
        "id": "UYnVZS9igNNf"
      },
      "source": [
        "* 정밀도"
      ]
    },
    {
      "cell_type": "code",
      "metadata": {
        "id": "j108NueLgMKF",
        "colab": {
          "base_uri": "https://localhost:8080/"
        },
        "outputId": "18d377d8-2cb7-41b3-feda-6f9bfbc6b1b3"
      },
      "source": [
        "from sklearn.metrics import precision_score\n",
        "\n",
        "precision = precision_score(y, y_pred)\n",
        "print(\"Precision:\", precision)"
      ],
      "execution_count": 4,
      "outputs": [
        {
          "output_type": "stream",
          "name": "stdout",
          "text": [
            "Precision: 0.900990099009901\n"
          ]
        }
      ]
    },
    {
      "cell_type": "markdown",
      "metadata": {
        "id": "2-MBquNJZOM4"
      },
      "source": [
        "* 재현율"
      ]
    },
    {
      "cell_type": "code",
      "metadata": {
        "id": "uje4ivPvZPwv",
        "colab": {
          "base_uri": "https://localhost:8080/"
        },
        "outputId": "cb5851bc-3056-41bc-aa93-43ba36be7d37"
      },
      "source": [
        "from sklearn.metrics import recall_score\n",
        "\n",
        "recall = recall_score(y, y_pred)\n",
        "print(\"Recall:\", recall)"
      ],
      "execution_count": 5,
      "outputs": [
        {
          "output_type": "stream",
          "name": "stdout",
          "text": [
            "Recall: 0.8584905660377359\n"
          ]
        }
      ]
    },
    {
      "cell_type": "markdown",
      "metadata": {
        "id": "Cw1p3yjagUCH"
      },
      "source": [
        "* F1 score"
      ]
    },
    {
      "cell_type": "code",
      "metadata": {
        "id": "hPdtYdoDgYgV",
        "colab": {
          "base_uri": "https://localhost:8080/"
        },
        "outputId": "e2fbca69-c99e-4e7f-d12b-a1abdc35b9d5"
      },
      "source": [
        "from sklearn.metrics import f1_score\n",
        "\n",
        "# 예측값과 실제값\n",
        "y_true = [0, 1, 1, 0, 1, 1, 0]  # 실제 값\n",
        "y_pred = [0, 1, 0, 0, 1, 1, 1]  # 모델의 예측 값\n",
        "\n",
        "# F1 점수 계산\n",
        "f1 = f1_score(y_true, y_pred)\n",
        "\n",
        "print(\"F1 Score:\", f1)"
      ],
      "execution_count": 6,
      "outputs": [
        {
          "output_type": "stream",
          "name": "stdout",
          "text": [
            "F1 Score: 0.75\n"
          ]
        }
      ]
    },
    {
      "cell_type": "markdown",
      "metadata": {
        "id": "fzwIFsKOW5a1"
      },
      "source": [
        "* 예측 확률(pred_proba) : 0으로 예측할 확률이 0.1보다 크면 y_pred2 에 넣는다 가정."
      ]
    },
    {
      "cell_type": "code",
      "metadata": {
        "id": "nw9dxOiPW40l"
      },
      "source": [
        "from sklearn.preprocessing import Binarizer\n",
        "from sklearn.metrics import confusion_matrix, accuracy_score, precision_score, recall_score, f1_score\n",
        "import numpy as np\n",
        "\n",
        "# 실제값\n",
        "y_true = [0, 1, 0, 1, 1]\n",
        "\n",
        "# 예측 확률 [P(0), P(1)]\n",
        "pred_proba = np.array([\n",
        "    [0.15, 0.85],\n",
        "    [0.08, 0.92],\n",
        "    [0.3, 0.7],\n",
        "    [0.05, 0.95],\n",
        "    [0.2, 0.8]\n",
        "])\n",
        "\n",
        "# 클래스 0일 확률만 추출\n",
        "class0_proba = pred_proba[:, 0].reshape(-1, 1)\n",
        "\n",
        "# Binarizer로 threshold 0.1 초과 → 1로 설정\n",
        "binarizer = Binarizer(threshold=0.1)\n",
        "binarized = binarizer.transform(class0_proba)\n",
        "\n",
        "# 조건: P(0) > 0.1 → 0으로 예측하므로 결과를 반전\n",
        "y_pred2 = (1 - binarized).flatten()"
      ],
      "execution_count": 7,
      "outputs": []
    },
    {
      "cell_type": "code",
      "metadata": {
        "id": "Y-WrHrICYFB1",
        "colab": {
          "base_uri": "https://localhost:8080/"
        },
        "outputId": "53ba61ef-0ea7-4b0b-f78e-d437366fbf26"
      },
      "source": [
        "# y과 y_pred2의 혼동행렬, 정확도, 정밀도, 재현율, f1 score 구하기\n",
        "print(\"y_pred2:\", y_pred2)\n",
        "print(\"Confusion Matrix:\\n\", confusion_matrix(y_true, y_pred2))\n",
        "print(\"Accuracy:\", accuracy_score(y_true, y_pred2))\n",
        "print(\"Precision:\", precision_score(y_true, y_pred2))\n",
        "print(\"Recall:\", recall_score(y_true, y_pred2))\n",
        "print(\"F1 Score:\", f1_score(y_true, y_pred2))"
      ],
      "execution_count": 8,
      "outputs": [
        {
          "output_type": "stream",
          "name": "stdout",
          "text": [
            "y_pred2: [0. 1. 0. 1. 0.]\n",
            "Confusion Matrix:\n",
            " [[2 0]\n",
            " [1 2]]\n",
            "Accuracy: 0.8\n",
            "Precision: 1.0\n",
            "Recall: 0.6666666666666666\n",
            "F1 Score: 0.8\n"
          ]
        }
      ]
    },
    {
      "cell_type": "markdown",
      "metadata": {
        "id": "itgf_OjsjU-R"
      },
      "source": [
        "* ROC 곡선 시각화"
      ]
    },
    {
      "cell_type": "code",
      "source": [
        "import matplotlib.pyplot as plt"
      ],
      "metadata": {
        "id": "7KFeO766DuZj"
      },
      "execution_count": 11,
      "outputs": []
    },
    {
      "cell_type": "code",
      "metadata": {
        "id": "DW75xBokjXKy",
        "colab": {
          "base_uri": "https://localhost:8080/",
          "height": 507
        },
        "outputId": "96da07de-b19e-4703-f742-36df994ab315"
      },
      "source": [
        "from sklearn.metrics import roc_curve, roc_auc_score\n",
        "\n",
        "# y_true: 실제 클래스 값\n",
        "# pred_proba: 예측 확률 (여기서는 클래스 1에 대한 확률을 사용해야 함)\n",
        "# 예: pred_proba = model.predict_proba(X_test)[:, 1]\n",
        "\n",
        "# ROC 곡선용 FPR, TPR 계산\n",
        "fpr, tpr, thresholds = roc_curve(y_true, pred_proba[:, 1])\n",
        "\n",
        "# AUC (Area Under the Curve) 계산\n",
        "roc_auc = roc_auc_score(y_true, pred_proba[:, 1])\n",
        "\n",
        "# ROC 곡선 시각화\n",
        "plt.figure(figsize=(6, 5))\n",
        "plt.plot(fpr, tpr, color='blue', label=f'ROC Curve (AUC = {roc_auc:.2f})')\n",
        "plt.plot([0, 1], [0, 1], color='gray', linestyle='--', label='Random Classifier')\n",
        "plt.xlabel('False Positive Rate')\n",
        "plt.ylabel('True Positive Rate')\n",
        "plt.title('Receiver Operating Characteristic (ROC)')\n",
        "plt.legend(loc='lower right')\n",
        "plt.grid(True)\n",
        "plt.tight_layout()\n",
        "plt.show()"
      ],
      "execution_count": 12,
      "outputs": [
        {
          "output_type": "display_data",
          "data": {
            "text/plain": [
              "<Figure size 600x500 with 1 Axes>"
            ],
            "image/png": "[encoded data removed]"
          },
          "metadata": {}
        }
      ]
    },
    {
      "cell_type": "markdown",
      "metadata": {
        "id": "fL4as0YsWYD7"
      },
      "source": [
        "* ROC AUC 값"
      ]
    },
    {
      "cell_type": "code",
      "metadata": {
        "id": "CSJ69SGJVh7m",
        "colab": {
          "base_uri": "https://localhost:8080/"
        },
        "outputId": "63df852d-f629-4466-f509-8b21d2710289"
      },
      "source": [
        "from sklearn.metrics import roc_auc_score\n",
        "\n",
        "# y_true: 실제 정답 (0 또는 1)\n",
        "# pred_proba[:, 1]: 클래스 1일 확률 (ROC는 항상 양성 클래스 기준)\n",
        "\n",
        "roc_auc = roc_auc_score(y_true, pred_proba[:, 1])\n",
        "print(\"ROC AUC Score:\", roc_auc)"
      ],
      "execution_count": 13,
      "outputs": [
        {
          "output_type": "stream",
          "name": "stdout",
          "text": [
            "ROC AUC Score: 0.8333333333333333\n"
          ]
        }
      ]
    }
  ]
}