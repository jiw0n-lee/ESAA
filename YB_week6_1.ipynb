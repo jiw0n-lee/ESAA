{
  "nbformat": 4,
  "nbformat_minor": 0,
  "metadata": {
    "colab": {
      "provenance": [],
      "authorship_tag": "ABX9TyPZBvy8Qzz0IiX41YM+xpDo",
      "include_colab_link": true
    },
    "kernelspec": {
      "name": "python3",
      "display_name": "Python 3"
    },
    "language_info": {
      "name": "python"
    }
  },
  "cells": [
    {
      "cell_type": "markdown",
      "metadata": {
        "id": "view-in-github",
        "colab_type": "text"
      },
      "source": [
        "<a href=\"https://colab.research.google.com/github/jiw0n-lee/ESAA/blob/main/YB_week6_1.ipynb\" target=\"_parent\"><img src=\"https://colab.research.google.com/assets/colab-badge.svg\" alt=\"Open In Colab\"/></a>"
      ]
    },
    {
      "cell_type": "markdown",
      "source": [
        "## **03 앙상블 학습**"
      ],
      "metadata": {
        "id": "chVs-Vs2XggV"
      }
    },
    {
      "cell_type": "markdown",
      "source": [
        "### 보팅 유형 - 하트 보팅과 소프트 보팅\n",
        "\n"
      ],
      "metadata": {
        "id": "qO9Q-SXLXtHa"
      }
    },
    {
      "cell_type": "markdown",
      "source": [
        "### 보팅 분류기"
      ],
      "metadata": {
        "id": "GiH8BowRXzWX"
      }
    },
    {
      "cell_type": "code",
      "execution_count": 51,
      "metadata": {
        "colab": {
          "base_uri": "https://localhost:8080/",
          "height": 227
        },
        "id": "5M0DwSoYStMU",
        "outputId": "d0b49184-9264-4816-9abb-359c7d0ca4c1"
      },
      "outputs": [
        {
          "output_type": "execute_result",
          "data": {
            "text/plain": [
              "   mean radius  mean texture  mean perimeter  mean area  mean smoothness  \\\n",
              "0        17.99         10.38           122.8     1001.0          0.11840   \n",
              "1        20.57         17.77           132.9     1326.0          0.08474   \n",
              "2        19.69         21.25           130.0     1203.0          0.10960   \n",
              "\n",
              "   mean compactness  mean concavity  mean concave points  mean symmetry  \\\n",
              "0           0.27760          0.3001              0.14710         0.2419   \n",
              "1           0.07864          0.0869              0.07017         0.1812   \n",
              "2           0.15990          0.1974              0.12790         0.2069   \n",
              "\n",
              "   mean fractal dimension  ...  worst radius  worst texture  worst perimeter  \\\n",
              "0                 0.07871  ...         25.38          17.33            184.6   \n",
              "1                 0.05667  ...         24.99          23.41            158.8   \n",
              "2                 0.05999  ...         23.57          25.53            152.5   \n",
              "\n",
              "   worst area  worst smoothness  worst compactness  worst concavity  \\\n",
              "0      2019.0            0.1622             0.6656           0.7119   \n",
              "1      1956.0            0.1238             0.1866           0.2416   \n",
              "2      1709.0            0.1444             0.4245           0.4504   \n",
              "\n",
              "   worst concave points  worst symmetry  worst fractal dimension  \n",
              "0                0.2654          0.4601                  0.11890  \n",
              "1                0.1860          0.2750                  0.08902  \n",
              "2                0.2430          0.3613                  0.08758  \n",
              "\n",
              "[3 rows x 30 columns]"
            ],
            "text/html": [
              "\n",
              "  <div id=\"df-7108ff59-4a27-46c9-90b0-3672281d96b9\" class=\"colab-df-container\">\n",
              "    <div>\n",
              "<style scoped>\n",
              "    .dataframe tbody tr th:only-of-type {\n",
              "        vertical-align: middle;\n",
              "    }\n",
              "\n",
              "    .dataframe tbody tr th {\n",
              "        vertical-align: top;\n",
              "    }\n",
              "\n",
              "    .dataframe thead th {\n",
              "        text-align: right;\n",
              "    }\n",
              "</style>\n",
              "<table border=\"1\" class=\"dataframe\">\n",
              "  <thead>\n",
              "    <tr style=\"text-align: right;\">\n",
              "      <th></th>\n",
              "      <th>mean radius</th>\n",
              "      <th>mean texture</th>\n",
              "      <th>mean perimeter</th>\n",
              "      <th>mean area</th>\n",
              "      <th>mean smoothness</th>\n",
              "      <th>mean compactness</th>\n",
              "      <th>mean concavity</th>\n",
              "      <th>mean concave points</th>\n",
              "      <th>mean symmetry</th>\n",
              "      <th>mean fractal dimension</th>\n",
              "      <th>...</th>\n",
              "      <th>worst radius</th>\n",
              "      <th>worst texture</th>\n",
              "      <th>worst perimeter</th>\n",
              "      <th>worst area</th>\n",
              "      <th>worst smoothness</th>\n",
              "      <th>worst compactness</th>\n",
              "      <th>worst concavity</th>\n",
              "      <th>worst concave points</th>\n",
              "      <th>worst symmetry</th>\n",
              "      <th>worst fractal dimension</th>\n",
              "    </tr>\n",
              "  </thead>\n",
              "  <tbody>\n",
              "    <tr>\n",
              "      <th>0</th>\n",
              "      <td>17.99</td>\n",
              "      <td>10.38</td>\n",
              "      <td>122.8</td>\n",
              "      <td>1001.0</td>\n",
              "      <td>0.11840</td>\n",
              "      <td>0.27760</td>\n",
              "      <td>0.3001</td>\n",
              "      <td>0.14710</td>\n",
              "      <td>0.2419</td>\n",
              "      <td>0.07871</td>\n",
              "      <td>...</td>\n",
              "      <td>25.38</td>\n",
              "      <td>17.33</td>\n",
              "      <td>184.6</td>\n",
              "      <td>2019.0</td>\n",
              "      <td>0.1622</td>\n",
              "      <td>0.6656</td>\n",
              "      <td>0.7119</td>\n",
              "      <td>0.2654</td>\n",
              "      <td>0.4601</td>\n",
              "      <td>0.11890</td>\n",
              "    </tr>\n",
              "    <tr>\n",
              "      <th>1</th>\n",
              "      <td>20.57</td>\n",
              "      <td>17.77</td>\n",
              "      <td>132.9</td>\n",
              "      <td>1326.0</td>\n",
              "      <td>0.08474</td>\n",
              "      <td>0.07864</td>\n",
              "      <td>0.0869</td>\n",
              "      <td>0.07017</td>\n",
              "      <td>0.1812</td>\n",
              "      <td>0.05667</td>\n",
              "      <td>...</td>\n",
              "      <td>24.99</td>\n",
              "      <td>23.41</td>\n",
              "      <td>158.8</td>\n",
              "      <td>1956.0</td>\n",
              "      <td>0.1238</td>\n",
              "      <td>0.1866</td>\n",
              "      <td>0.2416</td>\n",
              "      <td>0.1860</td>\n",
              "      <td>0.2750</td>\n",
              "      <td>0.08902</td>\n",
              "    </tr>\n",
              "    <tr>\n",
              "      <th>2</th>\n",
              "      <td>19.69</td>\n",
              "      <td>21.25</td>\n",
              "      <td>130.0</td>\n",
              "      <td>1203.0</td>\n",
              "      <td>0.10960</td>\n",
              "      <td>0.15990</td>\n",
              "      <td>0.1974</td>\n",
              "      <td>0.12790</td>\n",
              "      <td>0.2069</td>\n",
              "      <td>0.05999</td>\n",
              "      <td>...</td>\n",
              "      <td>23.57</td>\n",
              "      <td>25.53</td>\n",
              "      <td>152.5</td>\n",
              "      <td>1709.0</td>\n",
              "      <td>0.1444</td>\n",
              "      <td>0.4245</td>\n",
              "      <td>0.4504</td>\n",
              "      <td>0.2430</td>\n",
              "      <td>0.3613</td>\n",
              "      <td>0.08758</td>\n",
              "    </tr>\n",
              "  </tbody>\n",
              "</table>\n",
              "<p>3 rows × 30 columns</p>\n",
              "</div>\n",
              "    <div class=\"colab-df-buttons\">\n",
              "\n",
              "  <div class=\"colab-df-container\">\n",
              "    <button class=\"colab-df-convert\" onclick=\"convertToInteractive('df-7108ff59-4a27-46c9-90b0-3672281d96b9')\"\n",
              "            title=\"Convert this dataframe to an interactive table.\"\n",
              "            style=\"display:none;\">\n",
              "\n",
              "  <svg xmlns=\"http://www.w3.org/2000/svg\" height=\"24px\" viewBox=\"0 -960 960 960\">\n",
              "    <path d=\"M120-120v-720h720v720H120Zm60-500h600v-160H180v160Zm220 220h160v-160H400v160Zm0 220h160v-160H400v160ZM180-400h160v-160H180v160Zm440 0h160v-160H620v160ZM180-180h160v-160H180v160Zm440 0h160v-160H620v160Z\"/>\n",
              "  </svg>\n",
              "    </button>\n",
              "\n",
              "  <style>\n",
              "    .colab-df-container {\n",
              "      display:flex;\n",
              "      gap: 12px;\n",
              "    }\n",
              "\n",
              "    .colab-df-convert {\n",
              "      background-color: #E8F0FE;\n",
              "      border: none;\n",
              "      border-radius: 50%;\n",
              "      cursor: pointer;\n",
              "      display: none;\n",
              "      fill: #1967D2;\n",
              "      height: 32px;\n",
              "      padding: 0 0 0 0;\n",
              "      width: 32px;\n",
              "    }\n",
              "\n",
              "    .colab-df-convert:hover {\n",
              "      background-color: #E2EBFA;\n",
              "      box-shadow: 0px 1px 2px rgba(60, 64, 67, 0.3), 0px 1px 3px 1px rgba(60, 64, 67, 0.15);\n",
              "      fill: #174EA6;\n",
              "    }\n",
              "\n",
              "    .colab-df-buttons div {\n",
              "      margin-bottom: 4px;\n",
              "    }\n",
              "\n",
              "    [theme=dark] .colab-df-convert {\n",
              "      background-color: #3B4455;\n",
              "      fill: #D2E3FC;\n",
              "    }\n",
              "\n",
              "    [theme=dark] .colab-df-convert:hover {\n",
              "      background-color: #434B5C;\n",
              "      box-shadow: 0px 1px 3px 1px rgba(0, 0, 0, 0.15);\n",
              "      filter: drop-shadow(0px 1px 2px rgba(0, 0, 0, 0.3));\n",
              "      fill: #FFFFFF;\n",
              "    }\n",
              "  </style>\n",
              "\n",
              "    <script>\n",
              "      const buttonEl =\n",
              "        document.querySelector('#df-7108ff59-4a27-46c9-90b0-3672281d96b9 button.colab-df-convert');\n",
              "      buttonEl.style.display =\n",
              "        google.colab.kernel.accessAllowed ? 'block' : 'none';\n",
              "\n",
              "      async function convertToInteractive(key) {\n",
              "        const element = document.querySelector('#df-7108ff59-4a27-46c9-90b0-3672281d96b9');\n",
              "        const dataTable =\n",
              "          await google.colab.kernel.invokeFunction('convertToInteractive',\n",
              "                                                    [key], {});\n",
              "        if (!dataTable) return;\n",
              "\n",
              "        const docLinkHtml = 'Like what you see? Visit the ' +\n",
              "          '<a target=\"_blank\" href=https://colab.research.google.com/notebooks/data_table.ipynb>data table notebook</a>'\n",
              "          + ' to learn more about interactive tables.';\n",
              "        element.innerHTML = '';\n",
              "        dataTable['output_type'] = 'display_data';\n",
              "        await google.colab.output.renderOutput(dataTable, element);\n",
              "        const docLink = document.createElement('div');\n",
              "        docLink.innerHTML = docLinkHtml;\n",
              "        element.appendChild(docLink);\n",
              "      }\n",
              "    </script>\n",
              "  </div>\n",
              "\n",
              "\n",
              "<div id=\"df-663bc433-3aca-4723-94c8-e13d8531a094\">\n",
              "  <button class=\"colab-df-quickchart\" onclick=\"quickchart('df-663bc433-3aca-4723-94c8-e13d8531a094')\"\n",
              "            title=\"Suggest charts\"\n",
              "            style=\"display:none;\">\n",
              "\n",
              "<svg xmlns=\"http://www.w3.org/2000/svg\" height=\"24px\"viewBox=\"0 0 24 24\"\n",
              "     width=\"24px\">\n",
              "    <g>\n",
              "        <path d=\"M19 3H5c-1.1 0-2 .9-2 2v14c0 1.1.9 2 2 2h14c1.1 0 2-.9 2-2V5c0-1.1-.9-2-2-2zM9 17H7v-7h2v7zm4 0h-2V7h2v10zm4 0h-2v-4h2v4z\"/>\n",
              "    </g>\n",
              "</svg>\n",
              "  </button>\n",
              "\n",
              "<style>\n",
              "  .colab-df-quickchart {\n",
              "      --bg-color: #E8F0FE;\n",
              "      --fill-color: #1967D2;\n",
              "      --hover-bg-color: #E2EBFA;\n",
              "      --hover-fill-color: #174EA6;\n",
              "      --disabled-fill-color: #AAA;\n",
              "      --disabled-bg-color: #DDD;\n",
              "  }\n",
              "\n",
              "  [theme=dark] .colab-df-quickchart {\n",
              "      --bg-color: #3B4455;\n",
              "      --fill-color: #D2E3FC;\n",
              "      --hover-bg-color: #434B5C;\n",
              "      --hover-fill-color: #FFFFFF;\n",
              "      --disabled-bg-color: #3B4455;\n",
              "      --disabled-fill-color: #666;\n",
              "  }\n",
              "\n",
              "  .colab-df-quickchart {\n",
              "    background-color: var(--bg-color);\n",
              "    border: none;\n",
              "    border-radius: 50%;\n",
              "    cursor: pointer;\n",
              "    display: none;\n",
              "    fill: var(--fill-color);\n",
              "    height: 32px;\n",
              "    padding: 0;\n",
              "    width: 32px;\n",
              "  }\n",
              "\n",
              "  .colab-df-quickchart:hover {\n",
              "    background-color: var(--hover-bg-color);\n",
              "    box-shadow: 0 1px 2px rgba(60, 64, 67, 0.3), 0 1px 3px 1px rgba(60, 64, 67, 0.15);\n",
              "    fill: var(--button-hover-fill-color);\n",
              "  }\n",
              "\n",
              "  .colab-df-quickchart-complete:disabled,\n",
              "  .colab-df-quickchart-complete:disabled:hover {\n",
              "    background-color: var(--disabled-bg-color);\n",
              "    fill: var(--disabled-fill-color);\n",
              "    box-shadow: none;\n",
              "  }\n",
              "\n",
              "  .colab-df-spinner {\n",
              "    border: 2px solid var(--fill-color);\n",
              "    border-color: transparent;\n",
              "    border-bottom-color: var(--fill-color);\n",
              "    animation:\n",
              "      spin 1s steps(1) infinite;\n",
              "  }\n",
              "\n",
              "  @keyframes spin {\n",
              "    0% {\n",
              "      border-color: transparent;\n",
              "      border-bottom-color: var(--fill-color);\n",
              "      border-left-color: var(--fill-color);\n",
              "    }\n",
              "    20% {\n",
              "      border-color: transparent;\n",
              "      border-left-color: var(--fill-color);\n",
              "      border-top-color: var(--fill-color);\n",
              "    }\n",
              "    30% {\n",
              "      border-color: transparent;\n",
              "      border-left-color: var(--fill-color);\n",
              "      border-top-color: var(--fill-color);\n",
              "      border-right-color: var(--fill-color);\n",
              "    }\n",
              "    40% {\n",
              "      border-color: transparent;\n",
              "      border-right-color: var(--fill-color);\n",
              "      border-top-color: var(--fill-color);\n",
              "    }\n",
              "    60% {\n",
              "      border-color: transparent;\n",
              "      border-right-color: var(--fill-color);\n",
              "    }\n",
              "    80% {\n",
              "      border-color: transparent;\n",
              "      border-right-color: var(--fill-color);\n",
              "      border-bottom-color: var(--fill-color);\n",
              "    }\n",
              "    90% {\n",
              "      border-color: transparent;\n",
              "      border-bottom-color: var(--fill-color);\n",
              "    }\n",
              "  }\n",
              "</style>\n",
              "\n",
              "  <script>\n",
              "    async function quickchart(key) {\n",
              "      const quickchartButtonEl =\n",
              "        document.querySelector('#' + key + ' button');\n",
              "      quickchartButtonEl.disabled = true;  // To prevent multiple clicks.\n",
              "      quickchartButtonEl.classList.add('colab-df-spinner');\n",
              "      try {\n",
              "        const charts = await google.colab.kernel.invokeFunction(\n",
              "            'suggestCharts', [key], {});\n",
              "      } catch (error) {\n",
              "        console.error('Error during call to suggestCharts:', error);\n",
              "      }\n",
              "      quickchartButtonEl.classList.remove('colab-df-spinner');\n",
              "      quickchartButtonEl.classList.add('colab-df-quickchart-complete');\n",
              "    }\n",
              "    (() => {\n",
              "      let quickchartButtonEl =\n",
              "        document.querySelector('#df-663bc433-3aca-4723-94c8-e13d8531a094 button');\n",
              "      quickchartButtonEl.style.display =\n",
              "        google.colab.kernel.accessAllowed ? 'block' : 'none';\n",
              "    })();\n",
              "  </script>\n",
              "</div>\n",
              "\n",
              "    </div>\n",
              "  </div>\n"
            ],
            "application/vnd.google.colaboratory.intrinsic+json": {
              "type": "dataframe",
              "variable_name": "data_df"
            }
          },
          "metadata": {},
          "execution_count": 51
        }
      ],
      "source": [
        "import pandas as pd\n",
        "\n",
        "from sklearn.ensemble import VotingClassifier\n",
        "from sklearn.linear_model import LogisticRegression\n",
        "from sklearn.neighbors import KNeighborsClassifier\n",
        "from sklearn.datasets import load_breast_cancer\n",
        "from sklearn.model_selection import train_test_split\n",
        "from sklearn.metrics import accuracy_score\n",
        "\n",
        "cancer = load_breast_cancer()\n",
        "\n",
        "data_df = pd.DataFrame(cancer.data, columns=cancer.feature_names)\n",
        "data_df.head(3)"
      ]
    },
    {
      "cell_type": "code",
      "source": [
        "# 개별 모델은 로지스틱 회귀와 KNN임.\n",
        "lr_clf = LogisticRegression(solver='liblinear')\n",
        "knn_clf = KNeighborsClassifier(n_neighbors=8)\n",
        "\n",
        "# 개별 모델을 소프트 보팅 기반의 앙상블 모델로 구현한 분류기\n",
        "vo_clf = VotingClassifier(estimators=[('LR', lr_clf), ('KNN', knn_clf)], voting='soft')\n",
        "\n",
        "X_train, X_test, y_train, y_test = train_test_split(cancer.data, cancer.target,\n",
        "                                                    test_size=0.2, random_state=156)\n",
        "\n",
        "# VotingClassifier 학습/예측/평가.\n",
        "vo_clf.fit(X_train, y_train)\n",
        "pred = vo_clf.predict(X_test)\n",
        "print('Voting 분류기 정확도: {0:.4f}'.format(accuracy_score(y_test, pred)))\n",
        "\n",
        "# 개별 모델의 학습/예측/평가.\n",
        "classifiers = [lr_clf, knn_clf]\n",
        "for classifier in classifiers:\n",
        "  classifier.fit(X_train, y_train)\n",
        "  pred = classifier.predict(X_test)\n",
        "  class_name = classifier.__class__.__name__\n",
        "  print('{0} 정확도: {1:.4f}'.format(class_name, accuracy_score(y_test, pred)))"
      ],
      "metadata": {
        "colab": {
          "base_uri": "https://localhost:8080/"
        },
        "id": "W1Ju6n23Yn8M",
        "outputId": "93eebfe7-3bdf-49ce-d99c-7c81b83001eb"
      },
      "execution_count": 52,
      "outputs": [
        {
          "output_type": "stream",
          "name": "stdout",
          "text": [
            "Voting 분류기 정확도: 0.9561\n",
            "LogisticRegression 정확도: 0.9474\n",
            "KNeighborsClassifier 정확도: 0.9386\n"
          ]
        }
      ]
    },
    {
      "cell_type": "markdown",
      "source": [
        "## **04 랜덤 포레스트**"
      ],
      "metadata": {
        "id": "Vb20ryr2a4l6"
      }
    },
    {
      "cell_type": "markdown",
      "source": [
        "배깅(Bagging)은 앞서 소개한 보팅과 달리, 같은 알고리즘으로 여러 개의 분류기를 만들어서 보팅으로 최종 결정하는 알고리즘임.\n",
        "\n",
        "#### **배깅의 대표적인 알고리즘 : 랜덤 포레스트**\n",
        "\n",
        "**랜덤 포레스트**\n",
        "* 앙상블 알고리즘 중 비교적 빠른 수행 속도를 가지며, 다양한 영역에서 높은 예측 성능을 보임.\n",
        "\n",
        "* 랜덤 포레스트의 기반 알고리즘 : 결정 트리\n",
        "\n",
        "\n"
      ],
      "metadata": {
        "id": "m9TLcVfAa9Gw"
      }
    },
    {
      "cell_type": "markdown",
      "source": [],
      "metadata": {
        "id": "4HbWl-6VcRdP"
      }
    },
    {
      "cell_type": "code",
      "source": [
        "from google.colab import drive\n",
        "drive.mount('/content/drive')"
      ],
      "metadata": {
        "colab": {
          "base_uri": "https://localhost:8080/"
        },
        "id": "1knOlbU_eFlX",
        "outputId": "c545cd51-a5a6-46c5-edad-27e8a50c151f"
      },
      "execution_count": 53,
      "outputs": [
        {
          "output_type": "stream",
          "name": "stdout",
          "text": [
            "Drive already mounted at /content/drive; to attempt to forcibly remount, call drive.mount(\"/content/drive\", force_remount=True).\n"
          ]
        }
      ]
    },
    {
      "cell_type": "code",
      "source": [
        "def get_new_feature_name_df(old_feature_name_df):\n",
        "  feature_dup_df = pd.DataFrame(data=old_feature_name_df.groupby('column_name').cumcount(), columns=['dup_cnt'])\n",
        "  feature_dup_df = feature_dup_df.reset_index()\n",
        "  new_feature_name_df  = pd.merge(old_feature_name_df.reset_index(), feature_dup_df, how='outer')\n",
        "  new_feature_name_df['column_name'] = new_feature_name_df[['column_name',\n",
        "                                                            'dup_cnt']].apply(lambda x : x[0]+'_'+str(x[1])\n",
        "                                                              if x[1]>0 else x[0] , axis=1)\n",
        "  new_feature_name_df = new_feature_name_df.drop(['index'], axis=1)\n",
        "  return new_feature_name_df"
      ],
      "metadata": {
        "id": "K4nEAtU2d5MI"
      },
      "execution_count": 54,
      "outputs": []
    },
    {
      "cell_type": "code",
      "source": [
        "import pandas as pd\n",
        "\n",
        "def get_human_dataset():\n",
        "\n",
        "  # 각 데이터 파일은 공백으로 분리되어 있으므로 read_csv에서 공백 문자를 sep으로 할당.\n",
        "  feature_name_df = pd.read_csv('/content/drive/MyDrive/ESAA/human_activity/features.txt',  sep='\\s+', header=None, names=['column_index', 'column_name'])\n",
        "\n",
        "  # 중복된 피처명을 수정하는 get_new_features_name_df()를 이용, 신규 피처명 DataFrame 생성.\n",
        "  new_feature_name_df = get_new_feature_name_df(feature_name_df)\n",
        "\n",
        "  # DataFrame에 피처명을 칼럼으로 부여하기 위해 리스트 객체로 다시 변환\n",
        "  feature_name = new_feature_name_df.iloc[:, 1].values.tolist()\n",
        "\n",
        "  # 학습 피처 데이터세트와 테스트 피처 데이터를 DataFrame으로 로딩하고 칼럼명은 feature_name 적용\n",
        "  X_train = pd.read_csv('/content/drive/MyDrive/ESAA/human_activity/train/X_train.txt', sep='\\s+', names=feature_name)\n",
        "  X_test = pd.read_csv('/content/drive/MyDrive/ESAA/human_activity/test/X_test.txt', sep='\\s+', names=feature_name)\n",
        "\n",
        "  # 학습 레이블과 테스트 레이블 데이터를 DataFrame으로 로딩하고 칼럼명은 action으로 부여\n",
        "  y_train = pd.read_csv('/content/drive/MyDrive/ESAA/human_activity/train/y_train.txt', sep='\\s+', header=None, names=['action'])\n",
        "  y_test = pd.read_csv('/content/drive/MyDrive/ESAA/human_activity/test/y_test.txt', sep='\\s+', header=None, names=['action'])\n",
        "\n",
        "  # 로드된 학습/테스트용 DataFrame을 모두 반환\n",
        "  return X_train, X_test, y_train, y_test\n",
        "\n",
        "X_train, X_test, y_train, y_test = get_human_dataset()"
      ],
      "metadata": {
        "id": "g300kNndeEOo"
      },
      "execution_count": 55,
      "outputs": []
    },
    {
      "cell_type": "code",
      "source": [
        "from sklearn.ensemble import RandomForestClassifier\n",
        "from sklearn.metrics import accuracy_score\n",
        "import pandas as pd\n",
        "import warnings\n",
        "warnings.filterwarnings('ignore')\n",
        "\n",
        "# 결정 트리에서 사용한 get_human_dataset()를 이용해 학습/테스트용 DataFrame 반환\n",
        "X_train, X_test, y_train, y_test = get_human_dataset()\n",
        "\n",
        "# 랜덤 포레스트 학습 및 별도의 테스트 세트로 예측 성능 평가\n",
        "rf_clf = RandomForestClassifier(random_state=0, max_depth=8)\n",
        "rf_clf.fit(X_train, y_train)\n",
        "pred = rf_clf.predict(X_test)\n",
        "accuracy = accuracy_score(y_test, pred)\n",
        "print('랜덤 포레스트 정확도: {0:.4f}'.format(accuracy))"
      ],
      "metadata": {
        "colab": {
          "base_uri": "https://localhost:8080/"
        },
        "id": "EzkpZIsUatA2",
        "outputId": "cc9973ff-7836-4351-93df-a18c35423afe"
      },
      "execution_count": 56,
      "outputs": [
        {
          "output_type": "stream",
          "name": "stdout",
          "text": [
            "랜덤 포레스트 정확도: 0.9220\n"
          ]
        }
      ]
    },
    {
      "cell_type": "markdown",
      "source": [
        "### **랜덤 포레스트 하이퍼 파라미터 및 튜닝**"
      ],
      "metadata": {
        "id": "BChui7lyeXbi"
      }
    },
    {
      "cell_type": "code",
      "source": [
        "from sklearn.model_selection import GridSearchCV\n",
        "\n",
        "params = {\n",
        "    'max_depth' : [8, 16, 24],\n",
        "    'min_samples_leaf' : [1, 6, 12],\n",
        "    'min_samples_split' : [2, 8, 16]\n",
        "}\n",
        "# RandomForestClassifier 객체 생성 후 GridSearchCV 수행\n",
        "rf_clf = RandomForestClassifier(n_estimators=100, random_state=0, n_jobs=-1)\n",
        "grid_cv = GridSearchCV(rf_clf, param_grid=params, cv=2, n_jobs=-1)\n",
        "grid_cv.fit(X_train, y_train)\n",
        "\n",
        "print('최적 하이퍼 파라미터:\\n', grid_cv.best_params_)\n",
        "print('최고 예측 정확도: {0:.4f}'.format(grid_cv.best_score_))"
      ],
      "metadata": {
        "colab": {
          "base_uri": "https://localhost:8080/"
        },
        "id": "u5Q6lbYvdH4X",
        "outputId": "3a2a58ec-72e1-4456-d09d-6d6c2a612fe9"
      },
      "execution_count": 57,
      "outputs": [
        {
          "output_type": "stream",
          "name": "stdout",
          "text": [
            "최적 하이퍼 파라미터:\n",
            " {'max_depth': 16, 'min_samples_leaf': 6, 'min_samples_split': 16}\n",
            "최고 예측 정확도: 0.9157\n"
          ]
        }
      ]
    },
    {
      "cell_type": "code",
      "source": [
        "rf_clf1 = RandomForestClassifier(n_estimators=100, min_samples_leaf=6, max_depth=16,\n",
        "                                 min_samples_split=2, random_state=0)\n",
        "rf_clf1.fit(X_train, y_train)\n",
        "pred = rf_clf1.predict(X_test)\n",
        "print('예측 정확도: {0:.4f}'.format(accuracy_score(y_test, pred)))"
      ],
      "metadata": {
        "id": "23t49Zr0fRrc",
        "colab": {
          "base_uri": "https://localhost:8080/"
        },
        "outputId": "cbd61bff-ce5c-47d4-c295-a5114c123484"
      },
      "execution_count": 58,
      "outputs": [
        {
          "output_type": "stream",
          "name": "stdout",
          "text": [
            "예측 정확도: 0.9253\n"
          ]
        }
      ]
    },
    {
      "cell_type": "code",
      "source": [
        "import matplotlib.pyplot as plt\n",
        "import seaborn as sns\n",
        "%matplotlib inline\n",
        "\n",
        "ftr_importances_values = rf_clf1.feature_importances_\n",
        "ftr_importances = pd.Series(ftr_importances_values, index=X_train.columns)\n",
        "ftr_top20 = ftr_importances.sort_values(ascending=False)[:20]\n",
        "\n",
        "plt.figure(figsize=(8,6))\n",
        "plt.title('Feature importances Top 20')\n",
        "sns.barplot(x=ftr_top20, y=ftr_top20.index)\n",
        "plt.show()"
      ],
      "metadata": {
        "id": "SeyVaEyJtFXZ",
        "colab": {
          "base_uri": "https://localhost:8080/",
          "height": 564
        },
        "outputId": "ce6d1ff0-796f-46da-a430-94d7c0c327d8"
      },
      "execution_count": 59,
      "outputs": [
        {
          "output_type": "display_data",
          "data": {
            "text/plain": [
              "<Figure size 800x600 with 1 Axes>"
            ],
            "image/png": "[encoded data removed]"
          },
          "metadata": {}
        }
      ]
    },
    {
      "cell_type": "markdown",
      "source": [
        "## **05 GBM(Gradient Boosting Machine)**"
      ],
      "metadata": {
        "id": "9rUTW5U8JiQs"
      }
    },
    {
      "cell_type": "markdown",
      "source": [
        "### **GBM의 개요 및 실습**"
      ],
      "metadata": {
        "id": "Jt4oJaAVJq9L"
      }
    },
    {
      "cell_type": "code",
      "source": [
        "from sklearn.ensemble import GradientBoostingClassifier\n",
        "import time\n",
        "import warnings\n",
        "warnings.filterwarnings('ignore')\n",
        "\n",
        "X_train, X_test, y_train, y_test = get_human_dataset()\n",
        "\n",
        "# GBM 수행 시간 측정을 위함. 시작 시간 설정.\n",
        "start_time = time.time()\n",
        "\n",
        "gb_clf = GradientBoostingClassifier(random_state=0)"
      ],
      "metadata": {
        "id": "Lf0uw28BH_Ck"
      },
      "execution_count": 60,
      "outputs": []
    },
    {
      "cell_type": "code",
      "source": [
        "'''\n",
        "gb_clf.fit(X_train, y_train)\n",
        "gb_pred = gb_clf.predict(X_test)\n",
        "gb_accuracy = accuracy_score(y_test, gb_pred)\n",
        "\n",
        "print('GBM 정확도: {0:.4f}'.format(gb_accuracy))\n",
        "print('GBM 수행 시간: {0:.1f}'.format(time.time() - start_time))\n",
        "\n",
        "'''"
      ],
      "metadata": {
        "colab": {
          "base_uri": "https://localhost:8080/",
          "height": 54
        },
        "id": "-LFTh4K8gSij",
        "outputId": "312bf06b-ece4-4e3c-a44b-58993b53003a"
      },
      "execution_count": 61,
      "outputs": [
        {
          "output_type": "execute_result",
          "data": {
            "text/plain": [
              "\"\\ngb_clf.fit(X_train, y_train)\\ngb_pred = gb_clf.predict(X_test)\\ngb_accuracy = accuracy_score(y_test, gb_pred)\\n\\nprint('GBM 정확도: {0:.4f}'.format(gb_accuracy))\\nprint('GBM 수행 시간: {0:.1f}'.format(time.time() - start_time))\\n\\n\""
            ],
            "application/vnd.google.colaboratory.intrinsic+json": {
              "type": "string"
            }
          },
          "metadata": {},
          "execution_count": 61
        }
      ]
    },
    {
      "cell_type": "markdown",
      "source": [
        "### **GBM 하이퍼 파라미터 소개**"
      ],
      "metadata": {
        "id": "rd9cF8ZGLbU0"
      }
    },
    {
      "cell_type": "markdown",
      "source": [
        "## **04 XGBoost**"
      ],
      "metadata": {
        "id": "DWtrDA3xNbhP"
      }
    },
    {
      "cell_type": "markdown",
      "source": [
        "### XGBoost의 개요"
      ],
      "metadata": {
        "id": "vhoBGSbANe55"
      }
    },
    {
      "cell_type": "code",
      "source": [
        "import xgboost as xgb\n",
        "from xgboost import XGBClassifier"
      ],
      "metadata": {
        "id": "Ukvs4_NcQTpe"
      },
      "execution_count": 62,
      "outputs": []
    },
    {
      "cell_type": "markdown",
      "source": [
        "### 파이썬 래퍼 XGBoost 하이퍼 파라미터"
      ],
      "metadata": {
        "id": "QqSwYUyOQqfz"
      }
    },
    {
      "cell_type": "code",
      "source": [
        "import xgboost\n",
        "\n",
        "print(xgboost.__version__)"
      ],
      "metadata": {
        "colab": {
          "base_uri": "https://localhost:8080/"
        },
        "id": "JhGvABI0QqAP",
        "outputId": "6f865d77-fe7d-4ebd-9b1c-0d3e0af50894"
      },
      "execution_count": 63,
      "outputs": [
        {
          "output_type": "stream",
          "name": "stdout",
          "text": [
            "2.1.4\n"
          ]
        }
      ]
    },
    {
      "cell_type": "markdown",
      "source": [
        "### 파이썬 래퍼 XGBoost 적용 - 위스콘신 유방앙 예측"
      ],
      "metadata": {
        "id": "NqQ-_KT1RWql"
      }
    },
    {
      "cell_type": "code",
      "source": [
        "import xgboost as xgb\n",
        "from xgboost import plot_importance\n",
        "import pandas as pd\n",
        "import numpy as np\n",
        "from sklearn.datasets import load_breast_cancer\n",
        "from sklearn.model_selection import train_test_split\n",
        "import warnings\n",
        "warnings.filterwarnings('ignore')\n",
        "\n",
        "dataset = load_breast_cancer()\n",
        "features = dataset.data\n",
        "labels = dataset.target\n",
        "cancer_df = pd.DataFrame(data=features, columns=dataset.feature_names)\n",
        "cancer_df['target']=labels\n",
        "cancer_df.head(3)"
      ],
      "metadata": {
        "colab": {
          "base_uri": "https://localhost:8080/",
          "height": 227
        },
        "id": "Z3tXRv1RRU19",
        "outputId": "1558f1f4-30e0-46a2-d449-8f1c702cdcf3"
      },
      "execution_count": 64,
      "outputs": [
        {
          "output_type": "execute_result",
          "data": {
            "text/plain": [
              "   mean radius  mean texture  mean perimeter  mean area  mean smoothness  \\\n",
              "0        17.99         10.38           122.8     1001.0          0.11840   \n",
              "1        20.57         17.77           132.9     1326.0          0.08474   \n",
              "2        19.69         21.25           130.0     1203.0          0.10960   \n",
              "\n",
              "   mean compactness  mean concavity  mean concave points  mean symmetry  \\\n",
              "0           0.27760          0.3001              0.14710         0.2419   \n",
              "1           0.07864          0.0869              0.07017         0.1812   \n",
              "2           0.15990          0.1974              0.12790         0.2069   \n",
              "\n",
              "   mean fractal dimension  ...  worst texture  worst perimeter  worst area  \\\n",
              "0                 0.07871  ...          17.33            184.6      2019.0   \n",
              "1                 0.05667  ...          23.41            158.8      1956.0   \n",
              "2                 0.05999  ...          25.53            152.5      1709.0   \n",
              "\n",
              "   worst smoothness  worst compactness  worst concavity  worst concave points  \\\n",
              "0            0.1622             0.6656           0.7119                0.2654   \n",
              "1            0.1238             0.1866           0.2416                0.1860   \n",
              "2            0.1444             0.4245           0.4504                0.2430   \n",
              "\n",
              "   worst symmetry  worst fractal dimension  target  \n",
              "0          0.4601                  0.11890       0  \n",
              "1          0.2750                  0.08902       0  \n",
              "2          0.3613                  0.08758       0  \n",
              "\n",
              "[3 rows x 31 columns]"
            ],
            "text/html": [
              "\n",
              "  <div id=\"df-f6271f80-b793-4a52-add2-059938a3bfe0\" class=\"colab-df-container\">\n",
              "    <div>\n",
              "<style scoped>\n",
              "    .dataframe tbody tr th:only-of-type {\n",
              "        vertical-align: middle;\n",
              "    }\n",
              "\n",
              "    .dataframe tbody tr th {\n",
              "        vertical-align: top;\n",
              "    }\n",
              "\n",
              "    .dataframe thead th {\n",
              "        text-align: right;\n",
              "    }\n",
              "</style>\n",
              "<table border=\"1\" class=\"dataframe\">\n",
              "  <thead>\n",
              "    <tr style=\"text-align: right;\">\n",
              "      <th></th>\n",
              "      <th>mean radius</th>\n",
              "      <th>mean texture</th>\n",
              "      <th>mean perimeter</th>\n",
              "      <th>mean area</th>\n",
              "      <th>mean smoothness</th>\n",
              "      <th>mean compactness</th>\n",
              "      <th>mean concavity</th>\n",
              "      <th>mean concave points</th>\n",
              "      <th>mean symmetry</th>\n",
              "      <th>mean fractal dimension</th>\n",
              "      <th>...</th>\n",
              "      <th>worst texture</th>\n",
              "      <th>worst perimeter</th>\n",
              "      <th>worst area</th>\n",
              "      <th>worst smoothness</th>\n",
              "      <th>worst compactness</th>\n",
              "      <th>worst concavity</th>\n",
              "      <th>worst concave points</th>\n",
              "      <th>worst symmetry</th>\n",
              "      <th>worst fractal dimension</th>\n",
              "      <th>target</th>\n",
              "    </tr>\n",
              "  </thead>\n",
              "  <tbody>\n",
              "    <tr>\n",
              "      <th>0</th>\n",
              "      <td>17.99</td>\n",
              "      <td>10.38</td>\n",
              "      <td>122.8</td>\n",
              "      <td>1001.0</td>\n",
              "      <td>0.11840</td>\n",
              "      <td>0.27760</td>\n",
              "      <td>0.3001</td>\n",
              "      <td>0.14710</td>\n",
              "      <td>0.2419</td>\n",
              "      <td>0.07871</td>\n",
              "      <td>...</td>\n",
              "      <td>17.33</td>\n",
              "      <td>184.6</td>\n",
              "      <td>2019.0</td>\n",
              "      <td>0.1622</td>\n",
              "      <td>0.6656</td>\n",
              "      <td>0.7119</td>\n",
              "      <td>0.2654</td>\n",
              "      <td>0.4601</td>\n",
              "      <td>0.11890</td>\n",
              "      <td>0</td>\n",
              "    </tr>\n",
              "    <tr>\n",
              "      <th>1</th>\n",
              "      <td>20.57</td>\n",
              "      <td>17.77</td>\n",
              "      <td>132.9</td>\n",
              "      <td>1326.0</td>\n",
              "      <td>0.08474</td>\n",
              "      <td>0.07864</td>\n",
              "      <td>0.0869</td>\n",
              "      <td>0.07017</td>\n",
              "      <td>0.1812</td>\n",
              "      <td>0.05667</td>\n",
              "      <td>...</td>\n",
              "      <td>23.41</td>\n",
              "      <td>158.8</td>\n",
              "      <td>1956.0</td>\n",
              "      <td>0.1238</td>\n",
              "      <td>0.1866</td>\n",
              "      <td>0.2416</td>\n",
              "      <td>0.1860</td>\n",
              "      <td>0.2750</td>\n",
              "      <td>0.08902</td>\n",
              "      <td>0</td>\n",
              "    </tr>\n",
              "    <tr>\n",
              "      <th>2</th>\n",
              "      <td>19.69</td>\n",
              "      <td>21.25</td>\n",
              "      <td>130.0</td>\n",
              "      <td>1203.0</td>\n",
              "      <td>0.10960</td>\n",
              "      <td>0.15990</td>\n",
              "      <td>0.1974</td>\n",
              "      <td>0.12790</td>\n",
              "      <td>0.2069</td>\n",
              "      <td>0.05999</td>\n",
              "      <td>...</td>\n",
              "      <td>25.53</td>\n",
              "      <td>152.5</td>\n",
              "      <td>1709.0</td>\n",
              "      <td>0.1444</td>\n",
              "      <td>0.4245</td>\n",
              "      <td>0.4504</td>\n",
              "      <td>0.2430</td>\n",
              "      <td>0.3613</td>\n",
              "      <td>0.08758</td>\n",
              "      <td>0</td>\n",
              "    </tr>\n",
              "  </tbody>\n",
              "</table>\n",
              "<p>3 rows × 31 columns</p>\n",
              "</div>\n",
              "    <div class=\"colab-df-buttons\">\n",
              "\n",
              "  <div class=\"colab-df-container\">\n",
              "    <button class=\"colab-df-convert\" onclick=\"convertToInteractive('df-f6271f80-b793-4a52-add2-059938a3bfe0')\"\n",
              "            title=\"Convert this dataframe to an interactive table.\"\n",
              "            style=\"display:none;\">\n",
              "\n",
              "  <svg xmlns=\"http://www.w3.org/2000/svg\" height=\"24px\" viewBox=\"0 -960 960 960\">\n",
              "    <path d=\"M120-120v-720h720v720H120Zm60-500h600v-160H180v160Zm220 220h160v-160H400v160Zm0 220h160v-160H400v160ZM180-400h160v-160H180v160Zm440 0h160v-160H620v160ZM180-180h160v-160H180v160Zm440 0h160v-160H620v160Z\"/>\n",
              "  </svg>\n",
              "    </button>\n",
              "\n",
              "  <style>\n",
              "    .colab-df-container {\n",
              "      display:flex;\n",
              "      gap: 12px;\n",
              "    }\n",
              "\n",
              "    .colab-df-convert {\n",
              "      background-color: #E8F0FE;\n",
              "      border: none;\n",
              "      border-radius: 50%;\n",
              "      cursor: pointer;\n",
              "      display: none;\n",
              "      fill: #1967D2;\n",
              "      height: 32px;\n",
              "      padding: 0 0 0 0;\n",
              "      width: 32px;\n",
              "    }\n",
              "\n",
              "    .colab-df-convert:hover {\n",
              "      background-color: #E2EBFA;\n",
              "      box-shadow: 0px 1px 2px rgba(60, 64, 67, 0.3), 0px 1px 3px 1px rgba(60, 64, 67, 0.15);\n",
              "      fill: #174EA6;\n",
              "    }\n",
              "\n",
              "    .colab-df-buttons div {\n",
              "      margin-bottom: 4px;\n",
              "    }\n",
              "\n",
              "    [theme=dark] .colab-df-convert {\n",
              "      background-color: #3B4455;\n",
              "      fill: #D2E3FC;\n",
              "    }\n",
              "\n",
              "    [theme=dark] .colab-df-convert:hover {\n",
              "      background-color: #434B5C;\n",
              "      box-shadow: 0px 1px 3px 1px rgba(0, 0, 0, 0.15);\n",
              "      filter: drop-shadow(0px 1px 2px rgba(0, 0, 0, 0.3));\n",
              "      fill: #FFFFFF;\n",
              "    }\n",
              "  </style>\n",
              "\n",
              "    <script>\n",
              "      const buttonEl =\n",
              "        document.querySelector('#df-f6271f80-b793-4a52-add2-059938a3bfe0 button.colab-df-convert');\n",
              "      buttonEl.style.display =\n",
              "        google.colab.kernel.accessAllowed ? 'block' : 'none';\n",
              "\n",
              "      async function convertToInteractive(key) {\n",
              "        const element = document.querySelector('#df-f6271f80-b793-4a52-add2-059938a3bfe0');\n",
              "        const dataTable =\n",
              "          await google.colab.kernel.invokeFunction('convertToInteractive',\n",
              "                                                    [key], {});\n",
              "        if (!dataTable) return;\n",
              "\n",
              "        const docLinkHtml = 'Like what you see? Visit the ' +\n",
              "          '<a target=\"_blank\" href=https://colab.research.google.com/notebooks/data_table.ipynb>data table notebook</a>'\n",
              "          + ' to learn more about interactive tables.';\n",
              "        element.innerHTML = '';\n",
              "        dataTable['output_type'] = 'display_data';\n",
              "        await google.colab.output.renderOutput(dataTable, element);\n",
              "        const docLink = document.createElement('div');\n",
              "        docLink.innerHTML = docLinkHtml;\n",
              "        element.appendChild(docLink);\n",
              "      }\n",
              "    </script>\n",
              "  </div>\n",
              "\n",
              "\n",
              "<div id=\"df-3166b5dc-9953-4c32-ac01-6fb222b5eaf1\">\n",
              "  <button class=\"colab-df-quickchart\" onclick=\"quickchart('df-3166b5dc-9953-4c32-ac01-6fb222b5eaf1')\"\n",
              "            title=\"Suggest charts\"\n",
              "            style=\"display:none;\">\n",
              "\n",
              "<svg xmlns=\"http://www.w3.org/2000/svg\" height=\"24px\"viewBox=\"0 0 24 24\"\n",
              "     width=\"24px\">\n",
              "    <g>\n",
              "        <path d=\"M19 3H5c-1.1 0-2 .9-2 2v14c0 1.1.9 2 2 2h14c1.1 0 2-.9 2-2V5c0-1.1-.9-2-2-2zM9 17H7v-7h2v7zm4 0h-2V7h2v10zm4 0h-2v-4h2v4z\"/>\n",
              "    </g>\n",
              "</svg>\n",
              "  </button>\n",
              "\n",
              "<style>\n",
              "  .colab-df-quickchart {\n",
              "      --bg-color: #E8F0FE;\n",
              "      --fill-color: #1967D2;\n",
              "      --hover-bg-color: #E2EBFA;\n",
              "      --hover-fill-color: #174EA6;\n",
              "      --disabled-fill-color: #AAA;\n",
              "      --disabled-bg-color: #DDD;\n",
              "  }\n",
              "\n",
              "  [theme=dark] .colab-df-quickchart {\n",
              "      --bg-color: #3B4455;\n",
              "      --fill-color: #D2E3FC;\n",
              "      --hover-bg-color: #434B5C;\n",
              "      --hover-fill-color: #FFFFFF;\n",
              "      --disabled-bg-color: #3B4455;\n",
              "      --disabled-fill-color: #666;\n",
              "  }\n",
              "\n",
              "  .colab-df-quickchart {\n",
              "    background-color: var(--bg-color);\n",
              "    border: none;\n",
              "    border-radius: 50%;\n",
              "    cursor: pointer;\n",
              "    display: none;\n",
              "    fill: var(--fill-color);\n",
              "    height: 32px;\n",
              "    padding: 0;\n",
              "    width: 32px;\n",
              "  }\n",
              "\n",
              "  .colab-df-quickchart:hover {\n",
              "    background-color: var(--hover-bg-color);\n",
              "    box-shadow: 0 1px 2px rgba(60, 64, 67, 0.3), 0 1px 3px 1px rgba(60, 64, 67, 0.15);\n",
              "    fill: var(--button-hover-fill-color);\n",
              "  }\n",
              "\n",
              "  .colab-df-quickchart-complete:disabled,\n",
              "  .colab-df-quickchart-complete:disabled:hover {\n",
              "    background-color: var(--disabled-bg-color);\n",
              "    fill: var(--disabled-fill-color);\n",
              "    box-shadow: none;\n",
              "  }\n",
              "\n",
              "  .colab-df-spinner {\n",
              "    border: 2px solid var(--fill-color);\n",
              "    border-color: transparent;\n",
              "    border-bottom-color: var(--fill-color);\n",
              "    animation:\n",
              "      spin 1s steps(1) infinite;\n",
              "  }\n",
              "\n",
              "  @keyframes spin {\n",
              "    0% {\n",
              "      border-color: transparent;\n",
              "      border-bottom-color: var(--fill-color);\n",
              "      border-left-color: var(--fill-color);\n",
              "    }\n",
              "    20% {\n",
              "      border-color: transparent;\n",
              "      border-left-color: var(--fill-color);\n",
              "      border-top-color: var(--fill-color);\n",
              "    }\n",
              "    30% {\n",
              "      border-color: transparent;\n",
              "      border-left-color: var(--fill-color);\n",
              "      border-top-color: var(--fill-color);\n",
              "      border-right-color: var(--fill-color);\n",
              "    }\n",
              "    40% {\n",
              "      border-color: transparent;\n",
              "      border-right-color: var(--fill-color);\n",
              "      border-top-color: var(--fill-color);\n",
              "    }\n",
              "    60% {\n",
              "      border-color: transparent;\n",
              "      border-right-color: var(--fill-color);\n",
              "    }\n",
              "    80% {\n",
              "      border-color: transparent;\n",
              "      border-right-color: var(--fill-color);\n",
              "      border-bottom-color: var(--fill-color);\n",
              "    }\n",
              "    90% {\n",
              "      border-color: transparent;\n",
              "      border-bottom-color: var(--fill-color);\n",
              "    }\n",
              "  }\n",
              "</style>\n",
              "\n",
              "  <script>\n",
              "    async function quickchart(key) {\n",
              "      const quickchartButtonEl =\n",
              "        document.querySelector('#' + key + ' button');\n",
              "      quickchartButtonEl.disabled = true;  // To prevent multiple clicks.\n",
              "      quickchartButtonEl.classList.add('colab-df-spinner');\n",
              "      try {\n",
              "        const charts = await google.colab.kernel.invokeFunction(\n",
              "            'suggestCharts', [key], {});\n",
              "      } catch (error) {\n",
              "        console.error('Error during call to suggestCharts:', error);\n",
              "      }\n",
              "      quickchartButtonEl.classList.remove('colab-df-spinner');\n",
              "      quickchartButtonEl.classList.add('colab-df-quickchart-complete');\n",
              "    }\n",
              "    (() => {\n",
              "      let quickchartButtonEl =\n",
              "        document.querySelector('#df-3166b5dc-9953-4c32-ac01-6fb222b5eaf1 button');\n",
              "      quickchartButtonEl.style.display =\n",
              "        google.colab.kernel.accessAllowed ? 'block' : 'none';\n",
              "    })();\n",
              "  </script>\n",
              "</div>\n",
              "\n",
              "    </div>\n",
              "  </div>\n"
            ],
            "application/vnd.google.colaboratory.intrinsic+json": {
              "type": "dataframe",
              "variable_name": "cancer_df"
            }
          },
          "metadata": {},
          "execution_count": 64
        }
      ]
    },
    {
      "cell_type": "code",
      "source": [
        "print(dataset.target_names)\n",
        "print(cancer_df['target'].value_counts())"
      ],
      "metadata": {
        "colab": {
          "base_uri": "https://localhost:8080/"
        },
        "id": "gGfr9XfcSAgb",
        "outputId": "c54d9dfd-713c-4ec6-f512-f0ec65d83c6e"
      },
      "execution_count": 65,
      "outputs": [
        {
          "output_type": "stream",
          "name": "stdout",
          "text": [
            "['malignant' 'benign']\n",
            "target\n",
            "1    357\n",
            "0    212\n",
            "Name: count, dtype: int64\n"
          ]
        }
      ]
    },
    {
      "cell_type": "code",
      "source": [
        "# cancer_df에서 feature용 DataFrame과 Label용 Series 객체 추출\n",
        "# 맨 마지막 칼럼이 Label임. Feature용 DataFrame은 cancer_df의 첫번째 칼럼에서 맨 마지막 두번째 칼럼까지를 :-1 슬라이싱으로 추출.\n",
        "X_features = cancer_df.iloc[:,:-1]\n",
        "y_label = cancer_df.iloc[:,-1]\n",
        "\n",
        "# 전체 데이터 중 80%는 학습용 데이터, 20%는 테스트용 데이터 추출\n",
        "X_train, X_test, y_train, y_test = train_test_split(X_features, y_label, test_size=0.2, random_state=156)\n",
        "\n",
        "# 위에서 만든 X_train, y_train을 다시 쪼개서 90%는 학습과 10%는 검증용 데이터로 분리\n",
        "X_tr, X_val, y_tr, y_val = train_test_split(X_train, y_train, test_size=0.1, random_state=156)\n",
        "\n",
        "print(X_train.shape, X_test.shape)\n",
        "print(X_tr.shape, X_val.shape)"
      ],
      "metadata": {
        "colab": {
          "base_uri": "https://localhost:8080/"
        },
        "id": "_pvEGfuoSLPn",
        "outputId": "ad8ef40c-4e9c-4c88-a7b8-c4090d31d5d9"
      },
      "execution_count": 66,
      "outputs": [
        {
          "output_type": "stream",
          "name": "stdout",
          "text": [
            "(455, 30) (114, 30)\n",
            "(409, 30) (46, 30)\n"
          ]
        }
      ]
    },
    {
      "cell_type": "code",
      "source": [
        "import pandas as pd\n",
        "import numpy as np\n",
        "\n",
        "print(\"pandas version:\", pd.__version__)\n",
        "print(\"numpy version:\", np.__version__)"
      ],
      "metadata": {
        "colab": {
          "base_uri": "https://localhost:8080/"
        },
        "id": "9VlDVF8WchUR",
        "outputId": "70ccd7df-c6e2-4def-8537-e7a3b0e833f9"
      },
      "execution_count": 67,
      "outputs": [
        {
          "output_type": "stream",
          "name": "stdout",
          "text": [
            "pandas version: 2.2.2\n",
            "numpy version: 2.0.2\n"
          ]
        }
      ]
    },
    {
      "cell_type": "code",
      "source": [
        "# 만약 구버전 XGBoost에서 DataFrame으로 DMatrix 생성이 안 될 경우 X_train.values로 넘파이 변환.\n",
        "# 학습, 검증, 테스트용 DMatrix를 생성.\n",
        "dtr = xgb.DMatrix(data=X_tr, label=y_tr)\n",
        "dval = xgb.DMatrix(data=X_val, label=y_val)\n",
        "dtest = xgb.DMatrix(data=X_test, label=y_test)"
      ],
      "metadata": {
        "id": "12njSoZpXo5j"
      },
      "execution_count": 68,
      "outputs": []
    },
    {
      "cell_type": "code",
      "source": [
        "params = {'max_depth':3,\n",
        "          'eta': 0.05,\n",
        "          'objective': 'binary:logistic',\n",
        "          'eval_metric': 'logloss'\n",
        "          }\n",
        "num_rounds = 400"
      ],
      "metadata": {
        "id": "E7AmiNpQYBe_"
      },
      "execution_count": 69,
      "outputs": []
    },
    {
      "cell_type": "code",
      "source": [
        "# 학습 데이터 셋은 'train' 또는 평가 데이터 셋이 'eval'로 명기합니다.\n",
        "eval_list = [(dtr, 'train'), (dval, 'eval')] # 또는 eval_list = [(dval, 'eval)] 만 명기해도 무방.\n",
        "\n",
        "# 하이퍼 파라미터와 early stopping 파라미터를 train() 함수의 파라미터로 전달\n",
        "xgb_model = xgb.train(params=params, dtrain=dtr, num_boost_round=num_rounds, early_stopping_rounds=50, evals=eval_list)"
      ],
      "metadata": {
        "colab": {
          "base_uri": "https://localhost:8080/"
        },
        "id": "iP73pjE3YvLW",
        "outputId": "11d8ab1e-6e6d-4a0a-cab7-4112ff8887dd"
      },
      "execution_count": 70,
      "outputs": [
        {
          "output_type": "stream",
          "name": "stdout",
          "text": [
            "[0]\ttrain-logloss:0.62480\teval-logloss:0.63104\n",
            "[1]\ttrain-logloss:0.58674\teval-logloss:0.60478\n",
            "[2]\ttrain-logloss:0.55226\teval-logloss:0.58223\n",
            "[3]\ttrain-logloss:0.52086\teval-logloss:0.56184\n",
            "[4]\ttrain-logloss:0.49192\teval-logloss:0.54118\n",
            "[5]\ttrain-logloss:0.46537\teval-logloss:0.52223\n",
            "[6]\ttrain-logloss:0.44029\teval-logloss:0.50287\n",
            "[7]\ttrain-logloss:0.41666\teval-logloss:0.48620\n",
            "[8]\ttrain-logloss:0.39525\teval-logloss:0.46974\n",
            "[9]\ttrain-logloss:0.37542\teval-logloss:0.45497\n",
            "[10]\ttrain-logloss:0.35701\teval-logloss:0.44131\n",
            "[11]\ttrain-logloss:0.33982\teval-logloss:0.43134\n",
            "[12]\ttrain-logloss:0.32297\teval-logloss:0.41972\n",
            "[13]\ttrain-logloss:0.30725\teval-logloss:0.40902\n",
            "[14]\ttrain-logloss:0.29327\teval-logloss:0.39883\n",
            "[15]\ttrain-logloss:0.27946\teval-logloss:0.38968\n",
            "[16]\ttrain-logloss:0.26691\teval-logloss:0.38150\n",
            "[17]\ttrain-logloss:0.25473\teval-logloss:0.37368\n",
            "[18]\ttrain-logloss:0.24385\teval-logloss:0.36666\n",
            "[19]\ttrain-logloss:0.23338\teval-logloss:0.35994\n",
            "[20]\ttrain-logloss:0.22320\teval-logloss:0.35374\n",
            "[21]\ttrain-logloss:0.21363\teval-logloss:0.34704\n",
            "[22]\ttrain-logloss:0.20487\teval-logloss:0.34206\n",
            "[23]\ttrain-logloss:0.19634\teval-logloss:0.33621\n",
            "[24]\ttrain-logloss:0.18830\teval-logloss:0.33178\n",
            "[25]\ttrain-logloss:0.18093\teval-logloss:0.32774\n",
            "[26]\ttrain-logloss:0.17374\teval-logloss:0.32297\n",
            "[27]\ttrain-logloss:0.16695\teval-logloss:0.31855\n",
            "[28]\ttrain-logloss:0.16059\teval-logloss:0.31495\n",
            "[29]\ttrain-logloss:0.15450\teval-logloss:0.31173\n",
            "[30]\ttrain-logloss:0.14875\teval-logloss:0.30735\n",
            "[31]\ttrain-logloss:0.14329\teval-logloss:0.30463\n",
            "[32]\ttrain-logloss:0.13807\teval-logloss:0.30242\n",
            "[33]\ttrain-logloss:0.13325\teval-logloss:0.29922\n",
            "[34]\ttrain-logloss:0.12864\teval-logloss:0.29722\n",
            "[35]\ttrain-logloss:0.12429\teval-logloss:0.29540\n",
            "[36]\ttrain-logloss:0.12000\teval-logloss:0.29300\n",
            "[37]\ttrain-logloss:0.11581\teval-logloss:0.29010\n",
            "[38]\ttrain-logloss:0.11210\teval-logloss:0.28883\n",
            "[39]\ttrain-logloss:0.10838\teval-logloss:0.28769\n",
            "[40]\ttrain-logloss:0.10481\teval-logloss:0.28574\n",
            "[41]\ttrain-logloss:0.10160\teval-logloss:0.28434\n",
            "[42]\ttrain-logloss:0.09832\teval-logloss:0.28226\n",
            "[43]\ttrain-logloss:0.09534\teval-logloss:0.28006\n",
            "[44]\ttrain-logloss:0.09249\teval-logloss:0.27854\n",
            "[45]\ttrain-logloss:0.08972\teval-logloss:0.27747\n",
            "[46]\ttrain-logloss:0.08700\teval-logloss:0.27654\n",
            "[47]\ttrain-logloss:0.08461\teval-logloss:0.27598\n",
            "[48]\ttrain-logloss:0.08225\teval-logloss:0.27415\n",
            "[49]\ttrain-logloss:0.08001\teval-logloss:0.27245\n",
            "[50]\ttrain-logloss:0.07784\teval-logloss:0.27104\n",
            "[51]\ttrain-logloss:0.07578\teval-logloss:0.26958\n",
            "[52]\ttrain-logloss:0.07384\teval-logloss:0.26869\n",
            "[53]\ttrain-logloss:0.07196\teval-logloss:0.26760\n",
            "[54]\ttrain-logloss:0.07021\teval-logloss:0.26661\n",
            "[55]\ttrain-logloss:0.06833\teval-logloss:0.26680\n",
            "[56]\ttrain-logloss:0.06671\teval-logloss:0.26517\n",
            "[57]\ttrain-logloss:0.06519\teval-logloss:0.26412\n",
            "[58]\ttrain-logloss:0.06368\teval-logloss:0.26444\n",
            "[59]\ttrain-logloss:0.06202\teval-logloss:0.26434\n",
            "[60]\ttrain-logloss:0.06048\teval-logloss:0.26208\n",
            "[61]\ttrain-logloss:0.05898\teval-logloss:0.26139\n",
            "[62]\ttrain-logloss:0.05756\teval-logloss:0.26155\n",
            "[63]\ttrain-logloss:0.05614\teval-logloss:0.26114\n",
            "[64]\ttrain-logloss:0.05486\teval-logloss:0.25973\n",
            "[65]\ttrain-logloss:0.05372\teval-logloss:0.25878\n",
            "[66]\ttrain-logloss:0.05263\teval-logloss:0.25758\n",
            "[67]\ttrain-logloss:0.05140\teval-logloss:0.25664\n",
            "[68]\ttrain-logloss:0.05019\teval-logloss:0.25625\n",
            "[69]\ttrain-logloss:0.04910\teval-logloss:0.25593\n",
            "[70]\ttrain-logloss:0.04806\teval-logloss:0.25438\n",
            "[71]\ttrain-logloss:0.04704\teval-logloss:0.25373\n",
            "[72]\ttrain-logloss:0.04606\teval-logloss:0.25411\n",
            "[73]\ttrain-logloss:0.04514\teval-logloss:0.25316\n",
            "[74]\ttrain-logloss:0.04435\teval-logloss:0.25248\n",
            "[75]\ttrain-logloss:0.04347\teval-logloss:0.25271\n",
            "[76]\ttrain-logloss:0.04260\teval-logloss:0.25282\n",
            "[77]\ttrain-logloss:0.04178\teval-logloss:0.25165\n",
            "[78]\ttrain-logloss:0.04099\teval-logloss:0.25181\n",
            "[79]\ttrain-logloss:0.04022\teval-logloss:0.25210\n",
            "[80]\ttrain-logloss:0.03942\teval-logloss:0.25194\n",
            "[81]\ttrain-logloss:0.03875\teval-logloss:0.25254\n",
            "[82]\ttrain-logloss:0.03799\teval-logloss:0.25264\n",
            "[83]\ttrain-logloss:0.03727\teval-logloss:0.25280\n",
            "[84]\ttrain-logloss:0.03657\teval-logloss:0.25281\n",
            "[85]\ttrain-logloss:0.03586\teval-logloss:0.25219\n",
            "[86]\ttrain-logloss:0.03530\teval-logloss:0.25288\n",
            "[87]\ttrain-logloss:0.03464\teval-logloss:0.25226\n",
            "[88]\ttrain-logloss:0.03401\teval-logloss:0.25167\n",
            "[89]\ttrain-logloss:0.03347\teval-logloss:0.25258\n",
            "[90]\ttrain-logloss:0.03297\teval-logloss:0.25331\n",
            "[91]\ttrain-logloss:0.03240\teval-logloss:0.25373\n",
            "[92]\ttrain-logloss:0.03184\teval-logloss:0.25323\n",
            "[93]\ttrain-logloss:0.03136\teval-logloss:0.25240\n",
            "[94]\ttrain-logloss:0.03086\teval-logloss:0.25324\n",
            "[95]\ttrain-logloss:0.03035\teval-logloss:0.25280\n",
            "[96]\ttrain-logloss:0.02985\teval-logloss:0.25215\n",
            "[97]\ttrain-logloss:0.02937\teval-logloss:0.25179\n",
            "[98]\ttrain-logloss:0.02892\teval-logloss:0.25143\n",
            "[99]\ttrain-logloss:0.02853\teval-logloss:0.25180\n",
            "[100]\ttrain-logloss:0.02810\teval-logloss:0.25151\n",
            "[101]\ttrain-logloss:0.02769\teval-logloss:0.25158\n",
            "[102]\ttrain-logloss:0.02729\teval-logloss:0.25130\n",
            "[103]\ttrain-logloss:0.02689\teval-logloss:0.25094\n",
            "[104]\ttrain-logloss:0.02654\teval-logloss:0.25054\n",
            "[105]\ttrain-logloss:0.02617\teval-logloss:0.25030\n",
            "[106]\ttrain-logloss:0.02580\teval-logloss:0.24850\n",
            "[107]\ttrain-logloss:0.02545\teval-logloss:0.24829\n",
            "[108]\ttrain-logloss:0.02509\teval-logloss:0.24828\n",
            "[109]\ttrain-logloss:0.02475\teval-logloss:0.24881\n",
            "[110]\ttrain-logloss:0.02443\teval-logloss:0.24912\n",
            "[111]\ttrain-logloss:0.02405\teval-logloss:0.24791\n",
            "[112]\ttrain-logloss:0.02374\teval-logloss:0.24846\n",
            "[113]\ttrain-logloss:0.02341\teval-logloss:0.24931\n",
            "[114]\ttrain-logloss:0.02314\teval-logloss:0.24832\n",
            "[115]\ttrain-logloss:0.02286\teval-logloss:0.24889\n",
            "[116]\ttrain-logloss:0.02255\teval-logloss:0.24866\n",
            "[117]\ttrain-logloss:0.02227\teval-logloss:0.24925\n",
            "[118]\ttrain-logloss:0.02197\teval-logloss:0.24679\n",
            "[119]\ttrain-logloss:0.02172\teval-logloss:0.24787\n",
            "[120]\ttrain-logloss:0.02141\teval-logloss:0.24846\n",
            "[121]\ttrain-logloss:0.02112\teval-logloss:0.24683\n",
            "[122]\ttrain-logloss:0.02088\teval-logloss:0.24650\n",
            "[123]\ttrain-logloss:0.02061\teval-logloss:0.24497\n",
            "[124]\ttrain-logloss:0.02037\teval-logloss:0.24529\n",
            "[125]\ttrain-logloss:0.02012\teval-logloss:0.24516\n",
            "[126]\ttrain-logloss:0.01987\teval-logloss:0.24576\n",
            "[127]\ttrain-logloss:0.01967\teval-logloss:0.24576\n",
            "[128]\ttrain-logloss:0.01943\teval-logloss:0.24563\n",
            "[129]\ttrain-logloss:0.01922\teval-logloss:0.24533\n",
            "[130]\ttrain-logloss:0.01900\teval-logloss:0.24591\n",
            "[131]\ttrain-logloss:0.01881\teval-logloss:0.24593\n",
            "[132]\ttrain-logloss:0.01858\teval-logloss:0.24582\n",
            "[133]\ttrain-logloss:0.01839\teval-logloss:0.24619\n",
            "[134]\ttrain-logloss:0.01824\teval-logloss:0.24631\n",
            "[135]\ttrain-logloss:0.01805\teval-logloss:0.24669\n",
            "[136]\ttrain-logloss:0.01785\teval-logloss:0.24660\n",
            "[137]\ttrain-logloss:0.01770\teval-logloss:0.24584\n",
            "[138]\ttrain-logloss:0.01753\teval-logloss:0.24465\n",
            "[139]\ttrain-logloss:0.01734\teval-logloss:0.24458\n",
            "[140]\ttrain-logloss:0.01720\teval-logloss:0.24385\n",
            "[141]\ttrain-logloss:0.01703\teval-logloss:0.24422\n",
            "[142]\ttrain-logloss:0.01690\teval-logloss:0.24423\n",
            "[143]\ttrain-logloss:0.01673\teval-logloss:0.24408\n",
            "[144]\ttrain-logloss:0.01655\teval-logloss:0.24381\n",
            "[145]\ttrain-logloss:0.01641\teval-logloss:0.24311\n",
            "[146]\ttrain-logloss:0.01629\teval-logloss:0.24322\n",
            "[147]\ttrain-logloss:0.01614\teval-logloss:0.24360\n",
            "[148]\ttrain-logloss:0.01597\teval-logloss:0.24328\n",
            "[149]\ttrain-logloss:0.01582\teval-logloss:0.24314\n",
            "[150]\ttrain-logloss:0.01571\teval-logloss:0.24315\n",
            "[151]\ttrain-logloss:0.01556\teval-logloss:0.24289\n",
            "[152]\ttrain-logloss:0.01537\teval-logloss:0.24363\n",
            "[153]\ttrain-logloss:0.01523\teval-logloss:0.24404\n",
            "[154]\ttrain-logloss:0.01510\teval-logloss:0.24383\n",
            "[155]\ttrain-logloss:0.01493\teval-logloss:0.24435\n",
            "[156]\ttrain-logloss:0.01478\teval-logloss:0.24425\n",
            "[157]\ttrain-logloss:0.01467\teval-logloss:0.24361\n",
            "[158]\ttrain-logloss:0.01455\teval-logloss:0.24294\n",
            "[159]\ttrain-logloss:0.01440\teval-logloss:0.24340\n",
            "[160]\ttrain-logloss:0.01428\teval-logloss:0.24323\n",
            "[161]\ttrain-logloss:0.01417\teval-logloss:0.24310\n",
            "[162]\ttrain-logloss:0.01409\teval-logloss:0.24247\n",
            "[163]\ttrain-logloss:0.01393\teval-logloss:0.24311\n",
            "[164]\ttrain-logloss:0.01380\teval-logloss:0.24269\n",
            "[165]\ttrain-logloss:0.01368\teval-logloss:0.24268\n",
            "[166]\ttrain-logloss:0.01360\teval-logloss:0.24242\n",
            "[167]\ttrain-logloss:0.01345\teval-logloss:0.24306\n",
            "[168]\ttrain-logloss:0.01335\teval-logloss:0.24220\n",
            "[169]\ttrain-logloss:0.01328\teval-logloss:0.24116\n",
            "[170]\ttrain-logloss:0.01317\teval-logloss:0.24117\n",
            "[171]\ttrain-logloss:0.01308\teval-logloss:0.24126\n",
            "[172]\ttrain-logloss:0.01299\teval-logloss:0.24046\n",
            "[173]\ttrain-logloss:0.01292\teval-logloss:0.23993\n",
            "[174]\ttrain-logloss:0.01284\teval-logloss:0.23985\n",
            "[175]\ttrain-logloss:0.01275\teval-logloss:0.23994\n",
            "[176]\ttrain-logloss:0.01268\teval-logloss:0.23986\n",
            "[177]\ttrain-logloss:0.01260\teval-logloss:0.23996\n",
            "[178]\ttrain-logloss:0.01253\teval-logloss:0.23943\n",
            "[179]\ttrain-logloss:0.01243\teval-logloss:0.23847\n",
            "[180]\ttrain-logloss:0.01236\teval-logloss:0.23842\n",
            "[181]\ttrain-logloss:0.01226\teval-logloss:0.23885\n",
            "[182]\ttrain-logloss:0.01220\teval-logloss:0.23828\n",
            "[183]\ttrain-logloss:0.01214\teval-logloss:0.23892\n",
            "[184]\ttrain-logloss:0.01205\teval-logloss:0.23804\n",
            "[185]\ttrain-logloss:0.01198\teval-logloss:0.23799\n",
            "[186]\ttrain-logloss:0.01191\teval-logloss:0.23809\n",
            "[187]\ttrain-logloss:0.01185\teval-logloss:0.23752\n",
            "[188]\ttrain-logloss:0.01176\teval-logloss:0.23662\n",
            "[189]\ttrain-logloss:0.01170\teval-logloss:0.23659\n",
            "[190]\ttrain-logloss:0.01163\teval-logloss:0.23668\n",
            "[191]\ttrain-logloss:0.01157\teval-logloss:0.23732\n",
            "[192]\ttrain-logloss:0.01152\teval-logloss:0.23726\n",
            "[193]\ttrain-logloss:0.01146\teval-logloss:0.23722\n",
            "[194]\ttrain-logloss:0.01141\teval-logloss:0.23715\n",
            "[195]\ttrain-logloss:0.01136\teval-logloss:0.23661\n",
            "[196]\ttrain-logloss:0.01128\teval-logloss:0.23673\n",
            "[197]\ttrain-logloss:0.01126\teval-logloss:0.23651\n",
            "[198]\ttrain-logloss:0.01120\teval-logloss:0.23628\n",
            "[199]\ttrain-logloss:0.01113\teval-logloss:0.23641\n",
            "[200]\ttrain-logloss:0.01108\teval-logloss:0.23554\n",
            "[201]\ttrain-logloss:0.01103\teval-logloss:0.23533\n",
            "[202]\ttrain-logloss:0.01097\teval-logloss:0.23543\n",
            "[203]\ttrain-logloss:0.01091\teval-logloss:0.23546\n",
            "[204]\ttrain-logloss:0.01086\teval-logloss:0.23588\n",
            "[205]\ttrain-logloss:0.01079\teval-logloss:0.23600\n",
            "[206]\ttrain-logloss:0.01074\teval-logloss:0.23578\n",
            "[207]\ttrain-logloss:0.01069\teval-logloss:0.23597\n",
            "[208]\ttrain-logloss:0.01064\teval-logloss:0.23601\n",
            "[209]\ttrain-logloss:0.01058\teval-logloss:0.23613\n",
            "[210]\ttrain-logloss:0.01054\teval-logloss:0.23592\n",
            "[211]\ttrain-logloss:0.01047\teval-logloss:0.23605\n",
            "[212]\ttrain-logloss:0.01045\teval-logloss:0.23586\n",
            "[213]\ttrain-logloss:0.01041\teval-logloss:0.23626\n",
            "[214]\ttrain-logloss:0.01036\teval-logloss:0.23646\n",
            "[215]\ttrain-logloss:0.01031\teval-logloss:0.23649\n",
            "[216]\ttrain-logloss:0.01026\teval-logloss:0.23697\n",
            "[217]\ttrain-logloss:0.01024\teval-logloss:0.23679\n",
            "[218]\ttrain-logloss:0.01019\teval-logloss:0.23689\n",
            "[219]\ttrain-logloss:0.01014\teval-logloss:0.23693\n",
            "[220]\ttrain-logloss:0.01011\teval-logloss:0.23714\n",
            "[221]\ttrain-logloss:0.01006\teval-logloss:0.23732\n",
            "[222]\ttrain-logloss:0.01004\teval-logloss:0.23714\n",
            "[223]\ttrain-logloss:0.01001\teval-logloss:0.23736\n",
            "[224]\ttrain-logloss:0.00999\teval-logloss:0.23711\n",
            "[225]\ttrain-logloss:0.00997\teval-logloss:0.23703\n",
            "[226]\ttrain-logloss:0.00994\teval-logloss:0.23757\n",
            "[227]\ttrain-logloss:0.00992\teval-logloss:0.23740\n",
            "[228]\ttrain-logloss:0.00986\teval-logloss:0.23673\n",
            "[229]\ttrain-logloss:0.00984\teval-logloss:0.23649\n",
            "[230]\ttrain-logloss:0.00981\teval-logloss:0.23670\n",
            "[231]\ttrain-logloss:0.00979\teval-logloss:0.23653\n",
            "[232]\ttrain-logloss:0.00975\teval-logloss:0.23671\n",
            "[233]\ttrain-logloss:0.00971\teval-logloss:0.23674\n",
            "[234]\ttrain-logloss:0.00968\teval-logloss:0.23696\n",
            "[235]\ttrain-logloss:0.00966\teval-logloss:0.23673\n",
            "[236]\ttrain-logloss:0.00964\teval-logloss:0.23656\n",
            "[237]\ttrain-logloss:0.00961\teval-logloss:0.23708\n",
            "[238]\ttrain-logloss:0.00957\teval-logloss:0.23764\n",
            "[239]\ttrain-logloss:0.00954\teval-logloss:0.23766\n",
            "[240]\ttrain-logloss:0.00949\teval-logloss:0.23778\n",
            "[241]\ttrain-logloss:0.00948\teval-logloss:0.23775\n",
            "[242]\ttrain-logloss:0.00945\teval-logloss:0.23796\n",
            "[243]\ttrain-logloss:0.00943\teval-logloss:0.23780\n",
            "[244]\ttrain-logloss:0.00941\teval-logloss:0.23827\n",
            "[245]\ttrain-logloss:0.00940\teval-logloss:0.23819\n",
            "[246]\ttrain-logloss:0.00937\teval-logloss:0.23840\n",
            "[247]\ttrain-logloss:0.00935\teval-logloss:0.23838\n",
            "[248]\ttrain-logloss:0.00933\teval-logloss:0.23821\n",
            "[249]\ttrain-logloss:0.00931\teval-logloss:0.23872\n",
            "[250]\ttrain-logloss:0.00925\teval-logloss:0.23805\n",
            "[251]\ttrain-logloss:0.00924\teval-logloss:0.23783\n"
          ]
        }
      ]
    },
    {
      "cell_type": "code",
      "source": [
        "pred_probs = xgb_model.predict(dtest)\n",
        "print('predict( ) 수행 결괏값을 10개만 표시, 예측 확률 값으로 표시됨')\n",
        "print(np.round(pred_probs[:10], 3))\n",
        "\n",
        "# 예측 확률이 0.5보다 크면 1, 그렇지 않으면 0으로 예측값 결정하여 List 객체인 preds에 저장\n",
        "preds = [ 1 if x > 0.5 else 0 for x in pred_probs]\n",
        "print('예측값 10개만 표시:', preds[:10])"
      ],
      "metadata": {
        "colab": {
          "base_uri": "https://localhost:8080/"
        },
        "id": "dFARZrotal8y",
        "outputId": "75e52f50-d752-4b57-df2e-23ecfd241a16"
      },
      "execution_count": 71,
      "outputs": [
        {
          "output_type": "stream",
          "name": "stdout",
          "text": [
            "predict( ) 수행 결괏값을 10개만 표시, 예측 확률 값으로 표시됨\n",
            "[0.938 0.004 0.75  0.049 0.98  1.    0.999 0.999 0.998 0.001]\n",
            "예측값 10개만 표시: [1, 0, 1, 0, 1, 1, 1, 1, 1, 0]\n"
          ]
        }
      ]
    },
    {
      "cell_type": "code",
      "source": [
        "from sklearn.metrics import roc_auc_score\n",
        "from sklearn.metrics import roc_curve\n",
        "from sklearn.metrics import f1_score\n",
        "from sklearn.metrics import precision_recall_curve\n",
        "from sklearn.preprocessing import Binarizer\n",
        "from sklearn.metrics import accuracy_score, precision_score, recall_score, confusion_matrix"
      ],
      "metadata": {
        "id": "h3SWaAK-bLzn"
      },
      "execution_count": 72,
      "outputs": []
    },
    {
      "cell_type": "code",
      "source": [
        "def get_clf_eval(y_test, pred=None, pred_proba=None):\n",
        "  confusion = confusion_matrix(y_test, pred)\n",
        "  accuracy = accuracy_score(y_test , pred)\n",
        "  precision = precision_score(y_test , pred)\n",
        "  recall = recall_score(y_test , pred)\n",
        "  f1 = f1_score(y_test,pred)\n",
        "  # ROC-AUC 추가\n",
        "  roc_auc = roc_auc_score(y_test, pred_proba)\n",
        "  print('오차 행렬')\n",
        "  print(confusion)\n",
        "  # ROC-AUC print 추가\n",
        "  print('정확도: {0:.4f}, 정밀도: {1:.4f}, 재현율: {2:.4f}, \\\n",
        "  F1： {3:.4f}, AUC：{4:.4f}'.format(accuracy, precision, recall, f1, roc_auc))"
      ],
      "metadata": {
        "id": "v1FRr2EVbPTk"
      },
      "execution_count": 73,
      "outputs": []
    },
    {
      "cell_type": "code",
      "source": [
        "get_clf_eval(y_test, preds, pred_probs)"
      ],
      "metadata": {
        "colab": {
          "base_uri": "https://localhost:8080/"
        },
        "id": "UwUUyfVvb1jw",
        "outputId": "9eb79aae-4f86-48aa-e6ac-3bf50f387694"
      },
      "execution_count": 74,
      "outputs": [
        {
          "output_type": "stream",
          "name": "stdout",
          "text": [
            "오차 행렬\n",
            "[[35  2]\n",
            " [ 2 75]]\n",
            "정확도: 0.9649, 정밀도: 0.9740, 재현율: 0.9740,   F1： 0.9740, AUC：0.9965\n"
          ]
        }
      ]
    },
    {
      "cell_type": "code",
      "source": [
        "import matplotlib.pyplot as plt\n",
        "%matplotlib inline\n",
        "\n",
        "fig, ax = plt.subplots(figsize=(10, 12))\n",
        "plot_importance(xgb_model, ax=ax)"
      ],
      "metadata": {
        "colab": {
          "base_uri": "https://localhost:8080/",
          "height": 1000
        },
        "id": "pOfiRs9Db61J",
        "outputId": "665bb2fb-f030-4946-e5a8-05617ad5966a"
      },
      "execution_count": 75,
      "outputs": [
        {
          "output_type": "execute_result",
          "data": {
            "text/plain": [
              "<Axes: title={'center': 'Feature importance'}, xlabel='F score', ylabel='Features'>"
            ]
          },
          "metadata": {},
          "execution_count": 75
        },
        {
          "output_type": "display_data",
          "data": {
            "text/plain": [
              "<Figure size 1000x1200 with 1 Axes>"
            ],
            "image/png": "[encoded data removed]"
          },
          "metadata": {}
        }
      ]
    },
    {
      "cell_type": "markdown",
      "source": [
        "### 사이킷런 래퍼 XGBoost의 개요 및 적용"
      ],
      "metadata": {
        "id": "-ZToR1gNcGn3"
      }
    },
    {
      "cell_type": "code",
      "source": [
        "# 사이킷런 래퍼 XGBoost 클래스인 XGBClassifier 임포트\n",
        "from xgboost import XGBClassifier\n",
        "\n",
        "# Warning 메시지를 없애기 위해 eval_metric 값을 XGBClassifier 생성 인자로 입력.\n",
        "xgb_wrapper = XGBClassifier(n_estimators=400, learning_rate=0.05, max_depth=3,\n",
        "                            eval_metric='logloss')\n",
        "xgb_wrapper.fit(X_train, y_train, verbose=True)\n",
        "w_preds = xgb_wrapper.predict_proba(X_test)[:, 1]\n",
        "w_pred_proba = xgb_wrapper.predict_proba(X_test)[:, 1]"
      ],
      "metadata": {
        "id": "7N-Kvw3GcFhN"
      },
      "execution_count": 76,
      "outputs": []
    },
    {
      "cell_type": "code",
      "source": [
        "get_clf_eval(y_test, w_preds, w_pred_proba)"
      ],
      "metadata": {
        "colab": {
          "base_uri": "https://localhost:8080/",
          "height": 295
        },
        "id": "yyZ-yMHeULqH",
        "outputId": "ba6333ae-f33e-423b-b3ef-5d2a315936be"
      },
      "execution_count": 78,
      "outputs": [
        {
          "output_type": "error",
          "ename": "ValueError",
          "evalue": "Classification metrics can't handle a mix of binary and continuous targets",
          "traceback": [
            "\u001b[0;31m---------------------------------------------------------------------------\u001b[0m",
            "\u001b[0;31mValueError\u001b[0m                                Traceback (most recent call last)",
            "\u001b[0;32m<ipython-input-78-9fa1367b1bb7>\u001b[0m in \u001b[0;36m<cell line: 0>\u001b[0;34m()\u001b[0m\n\u001b[0;32m----> 1\u001b[0;31m \u001b[0mget_clf_eval\u001b[0m\u001b[0;34m(\u001b[0m\u001b[0my_test\u001b[0m\u001b[0;34m,\u001b[0m \u001b[0mw_preds\u001b[0m\u001b[0;34m,\u001b[0m \u001b[0mw_pred_proba\u001b[0m\u001b[0;34m)\u001b[0m\u001b[0;34m\u001b[0m\u001b[0;34m\u001b[0m\u001b[0m\n\u001b[0m",
            "\u001b[0;32m<ipython-input-73-ecdd69b3ef9c>\u001b[0m in \u001b[0;36mget_clf_eval\u001b[0;34m(y_test, pred, pred_proba)\u001b[0m\n\u001b[1;32m      1\u001b[0m \u001b[0;32mdef\u001b[0m \u001b[0mget_clf_eval\u001b[0m\u001b[0;34m(\u001b[0m\u001b[0my_test\u001b[0m\u001b[0;34m,\u001b[0m \u001b[0mpred\u001b[0m\u001b[0;34m=\u001b[0m\u001b[0;32mNone\u001b[0m\u001b[0;34m,\u001b[0m \u001b[0mpred_proba\u001b[0m\u001b[0;34m=\u001b[0m\u001b[0;32mNone\u001b[0m\u001b[0;34m)\u001b[0m\u001b[0;34m:\u001b[0m\u001b[0;34m\u001b[0m\u001b[0;34m\u001b[0m\u001b[0m\n\u001b[0;32m----> 2\u001b[0;31m   \u001b[0mconfusion\u001b[0m \u001b[0;34m=\u001b[0m \u001b[0mconfusion_matrix\u001b[0m\u001b[0;34m(\u001b[0m\u001b[0my_test\u001b[0m\u001b[0;34m,\u001b[0m \u001b[0mpred\u001b[0m\u001b[0;34m)\u001b[0m\u001b[0;34m\u001b[0m\u001b[0;34m\u001b[0m\u001b[0m\n\u001b[0m\u001b[1;32m      3\u001b[0m   \u001b[0maccuracy\u001b[0m \u001b[0;34m=\u001b[0m \u001b[0maccuracy_score\u001b[0m\u001b[0;34m(\u001b[0m\u001b[0my_test\u001b[0m \u001b[0;34m,\u001b[0m \u001b[0mpred\u001b[0m\u001b[0;34m)\u001b[0m\u001b[0;34m\u001b[0m\u001b[0;34m\u001b[0m\u001b[0m\n\u001b[1;32m      4\u001b[0m   \u001b[0mprecision\u001b[0m \u001b[0;34m=\u001b[0m \u001b[0mprecision_score\u001b[0m\u001b[0;34m(\u001b[0m\u001b[0my_test\u001b[0m \u001b[0;34m,\u001b[0m \u001b[0mpred\u001b[0m\u001b[0;34m)\u001b[0m\u001b[0;34m\u001b[0m\u001b[0;34m\u001b[0m\u001b[0m\n\u001b[1;32m      5\u001b[0m   \u001b[0mrecall\u001b[0m \u001b[0;34m=\u001b[0m \u001b[0mrecall_score\u001b[0m\u001b[0;34m(\u001b[0m\u001b[0my_test\u001b[0m \u001b[0;34m,\u001b[0m \u001b[0mpred\u001b[0m\u001b[0;34m)\u001b[0m\u001b[0;34m\u001b[0m\u001b[0;34m\u001b[0m\u001b[0m\n",
            "\u001b[0;32m/usr/local/lib/python3.11/dist-packages/sklearn/utils/_param_validation.py\u001b[0m in \u001b[0;36mwrapper\u001b[0;34m(*args, **kwargs)\u001b[0m\n\u001b[1;32m    214\u001b[0m                     )\n\u001b[1;32m    215\u001b[0m                 ):\n\u001b[0;32m--> 216\u001b[0;31m                     \u001b[0;32mreturn\u001b[0m \u001b[0mfunc\u001b[0m\u001b[0;34m(\u001b[0m\u001b[0;34m*\u001b[0m\u001b[0margs\u001b[0m\u001b[0;34m,\u001b[0m \u001b[0;34m**\u001b[0m\u001b[0mkwargs\u001b[0m\u001b[0;34m)\u001b[0m\u001b[0;34m\u001b[0m\u001b[0;34m\u001b[0m\u001b[0m\n\u001b[0m\u001b[1;32m    217\u001b[0m             \u001b[0;32mexcept\u001b[0m \u001b[0mInvalidParameterError\u001b[0m \u001b[0;32mas\u001b[0m \u001b[0me\u001b[0m\u001b[0;34m:\u001b[0m\u001b[0;34m\u001b[0m\u001b[0;34m\u001b[0m\u001b[0m\n\u001b[1;32m    218\u001b[0m                 \u001b[0;31m# When the function is just a wrapper around an estimator, we allow\u001b[0m\u001b[0;34m\u001b[0m\u001b[0;34m\u001b[0m\u001b[0m\n",
            "\u001b[0;32m/usr/local/lib/python3.11/dist-packages/sklearn/metrics/_classification.py\u001b[0m in \u001b[0;36mconfusion_matrix\u001b[0;34m(y_true, y_pred, labels, sample_weight, normalize)\u001b[0m\n\u001b[1;32m    338\u001b[0m     \"\"\"\n\u001b[1;32m    339\u001b[0m     \u001b[0my_true\u001b[0m\u001b[0;34m,\u001b[0m \u001b[0my_pred\u001b[0m \u001b[0;34m=\u001b[0m \u001b[0mattach_unique\u001b[0m\u001b[0;34m(\u001b[0m\u001b[0my_true\u001b[0m\u001b[0;34m,\u001b[0m \u001b[0my_pred\u001b[0m\u001b[0;34m)\u001b[0m\u001b[0;34m\u001b[0m\u001b[0;34m\u001b[0m\u001b[0m\n\u001b[0;32m--> 340\u001b[0;31m     \u001b[0my_type\u001b[0m\u001b[0;34m,\u001b[0m \u001b[0my_true\u001b[0m\u001b[0;34m,\u001b[0m \u001b[0my_pred\u001b[0m \u001b[0;34m=\u001b[0m \u001b[0m_check_targets\u001b[0m\u001b[0;34m(\u001b[0m\u001b[0my_true\u001b[0m\u001b[0;34m,\u001b[0m \u001b[0my_pred\u001b[0m\u001b[0;34m)\u001b[0m\u001b[0;34m\u001b[0m\u001b[0;34m\u001b[0m\u001b[0m\n\u001b[0m\u001b[1;32m    341\u001b[0m     \u001b[0;32mif\u001b[0m \u001b[0my_type\u001b[0m \u001b[0;32mnot\u001b[0m \u001b[0;32min\u001b[0m \u001b[0;34m(\u001b[0m\u001b[0;34m\"binary\"\u001b[0m\u001b[0;34m,\u001b[0m \u001b[0;34m\"multiclass\"\u001b[0m\u001b[0;34m)\u001b[0m\u001b[0;34m:\u001b[0m\u001b[0;34m\u001b[0m\u001b[0;34m\u001b[0m\u001b[0m\n\u001b[1;32m    342\u001b[0m         \u001b[0;32mraise\u001b[0m \u001b[0mValueError\u001b[0m\u001b[0;34m(\u001b[0m\u001b[0;34m\"%s is not supported\"\u001b[0m \u001b[0;34m%\u001b[0m \u001b[0my_type\u001b[0m\u001b[0;34m)\u001b[0m\u001b[0;34m\u001b[0m\u001b[0;34m\u001b[0m\u001b[0m\n",
            "\u001b[0;32m/usr/local/lib/python3.11/dist-packages/sklearn/metrics/_classification.py\u001b[0m in \u001b[0;36m_check_targets\u001b[0;34m(y_true, y_pred)\u001b[0m\n\u001b[1;32m    105\u001b[0m \u001b[0;34m\u001b[0m\u001b[0m\n\u001b[1;32m    106\u001b[0m     \u001b[0;32mif\u001b[0m \u001b[0mlen\u001b[0m\u001b[0;34m(\u001b[0m\u001b[0my_type\u001b[0m\u001b[0;34m)\u001b[0m \u001b[0;34m>\u001b[0m \u001b[0;36m1\u001b[0m\u001b[0;34m:\u001b[0m\u001b[0;34m\u001b[0m\u001b[0;34m\u001b[0m\u001b[0m\n\u001b[0;32m--> 107\u001b[0;31m         raise ValueError(\n\u001b[0m\u001b[1;32m    108\u001b[0m             \"Classification metrics can't handle a mix of {0} and {1} targets\".format(\n\u001b[1;32m    109\u001b[0m                 \u001b[0mtype_true\u001b[0m\u001b[0;34m,\u001b[0m \u001b[0mtype_pred\u001b[0m\u001b[0;34m\u001b[0m\u001b[0;34m\u001b[0m\u001b[0m\n",
            "\u001b[0;31mValueError\u001b[0m: Classification metrics can't handle a mix of binary and continuous targets"
          ]
        }
      ]
    },
    {
      "cell_type": "code",
      "source": [
        "get_clf_eval(y_test, ws50_preds, ws50_pred_proba)"
      ],
      "metadata": {
        "colab": {
          "base_uri": "https://localhost:8080/"
        },
        "id": "aGJPHvAtVWPa",
        "outputId": "ab6547f7-c983-4b27-e54c-db3f885558e8"
      },
      "execution_count": 79,
      "outputs": [
        {
          "output_type": "stream",
          "name": "stdout",
          "text": [
            "오차 행렬\n",
            "[[35  2]\n",
            " [ 2 75]]\n",
            "정확도: 0.9649, 정밀도: 0.9740, 재현율: 0.9740,   F1： 0.9740, AUC：0.9961\n"
          ]
        }
      ]
    },
    {
      "cell_type": "code",
      "source": [
        "from xgboost import XGBClassifier\n",
        "\n",
        "xgb_wrapper = XGBClassifier(n_estimators=400, learning_rate=0.05, max_depth=3, early_stopping_rounds=50, eval_metric=\"logloss\")\n",
        "evals = [(X_tr,y_tr),(X_val,y_val)]\n",
        "xgb_wrapper.fit(X_tr, y_tr,\n",
        "                eval_set=evals, verbose=True)\n",
        "\n",
        "ws50_preds = xgb_wrapper.predict(X_test)\n",
        "ws50_pred_proba = xgb_wrapper.predict_proba(X_test)[:,1]"
      ],
      "metadata": {
        "colab": {
          "base_uri": "https://localhost:8080/"
        },
        "id": "6NcCnPyziiZh",
        "outputId": "ea1a9ab8-7c36-4fbc-856d-ba039c887247"
      },
      "execution_count": 80,
      "outputs": [
        {
          "output_type": "stream",
          "name": "stdout",
          "text": [
            "[0]\tvalidation_0-logloss:0.62480\tvalidation_1-logloss:0.63104\n",
            "[1]\tvalidation_0-logloss:0.58674\tvalidation_1-logloss:0.60478\n",
            "[2]\tvalidation_0-logloss:0.55226\tvalidation_1-logloss:0.58223\n",
            "[3]\tvalidation_0-logloss:0.52086\tvalidation_1-logloss:0.56184\n",
            "[4]\tvalidation_0-logloss:0.49192\tvalidation_1-logloss:0.54118\n",
            "[5]\tvalidation_0-logloss:0.46537\tvalidation_1-logloss:0.52223\n",
            "[6]\tvalidation_0-logloss:0.44029\tvalidation_1-logloss:0.50287\n",
            "[7]\tvalidation_0-logloss:0.41666\tvalidation_1-logloss:0.48620\n",
            "[8]\tvalidation_0-logloss:0.39525\tvalidation_1-logloss:0.46974\n",
            "[9]\tvalidation_0-logloss:0.37542\tvalidation_1-logloss:0.45497\n",
            "[10]\tvalidation_0-logloss:0.35701\tvalidation_1-logloss:0.44131\n",
            "[11]\tvalidation_0-logloss:0.33982\tvalidation_1-logloss:0.43134\n",
            "[12]\tvalidation_0-logloss:0.32297\tvalidation_1-logloss:0.41972\n",
            "[13]\tvalidation_0-logloss:0.30725\tvalidation_1-logloss:0.40902\n",
            "[14]\tvalidation_0-logloss:0.29327\tvalidation_1-logloss:0.39883\n",
            "[15]\tvalidation_0-logloss:0.27946\tvalidation_1-logloss:0.38968\n",
            "[16]\tvalidation_0-logloss:0.26691\tvalidation_1-logloss:0.38150\n",
            "[17]\tvalidation_0-logloss:0.25473\tvalidation_1-logloss:0.37368\n",
            "[18]\tvalidation_0-logloss:0.24385\tvalidation_1-logloss:0.36666\n",
            "[19]\tvalidation_0-logloss:0.23338\tvalidation_1-logloss:0.35994\n",
            "[20]\tvalidation_0-logloss:0.22320\tvalidation_1-logloss:0.35374\n",
            "[21]\tvalidation_0-logloss:0.21363\tvalidation_1-logloss:0.34704\n",
            "[22]\tvalidation_0-logloss:0.20487\tvalidation_1-logloss:0.34206\n",
            "[23]\tvalidation_0-logloss:0.19634\tvalidation_1-logloss:0.33621\n",
            "[24]\tvalidation_0-logloss:0.18830\tvalidation_1-logloss:0.33178\n",
            "[25]\tvalidation_0-logloss:0.18093\tvalidation_1-logloss:0.32774\n",
            "[26]\tvalidation_0-logloss:0.17374\tvalidation_1-logloss:0.32297\n",
            "[27]\tvalidation_0-logloss:0.16695\tvalidation_1-logloss:0.31855\n",
            "[28]\tvalidation_0-logloss:0.16059\tvalidation_1-logloss:0.31495\n",
            "[29]\tvalidation_0-logloss:0.15450\tvalidation_1-logloss:0.31173\n",
            "[30]\tvalidation_0-logloss:0.14875\tvalidation_1-logloss:0.30735\n",
            "[31]\tvalidation_0-logloss:0.14329\tvalidation_1-logloss:0.30463\n",
            "[32]\tvalidation_0-logloss:0.13807\tvalidation_1-logloss:0.30242\n",
            "[33]\tvalidation_0-logloss:0.13325\tvalidation_1-logloss:0.29922\n",
            "[34]\tvalidation_0-logloss:0.12864\tvalidation_1-logloss:0.29722\n",
            "[35]\tvalidation_0-logloss:0.12429\tvalidation_1-logloss:0.29540\n",
            "[36]\tvalidation_0-logloss:0.12000\tvalidation_1-logloss:0.29300\n",
            "[37]\tvalidation_0-logloss:0.11581\tvalidation_1-logloss:0.29010\n",
            "[38]\tvalidation_0-logloss:0.11210\tvalidation_1-logloss:0.28883\n",
            "[39]\tvalidation_0-logloss:0.10838\tvalidation_1-logloss:0.28769\n",
            "[40]\tvalidation_0-logloss:0.10481\tvalidation_1-logloss:0.28574\n",
            "[41]\tvalidation_0-logloss:0.10160\tvalidation_1-logloss:0.28434\n",
            "[42]\tvalidation_0-logloss:0.09832\tvalidation_1-logloss:0.28226\n",
            "[43]\tvalidation_0-logloss:0.09534\tvalidation_1-logloss:0.28006\n",
            "[44]\tvalidation_0-logloss:0.09249\tvalidation_1-logloss:0.27854\n",
            "[45]\tvalidation_0-logloss:0.08972\tvalidation_1-logloss:0.27747\n",
            "[46]\tvalidation_0-logloss:0.08700\tvalidation_1-logloss:0.27654\n",
            "[47]\tvalidation_0-logloss:0.08461\tvalidation_1-logloss:0.27598\n",
            "[48]\tvalidation_0-logloss:0.08225\tvalidation_1-logloss:0.27415\n",
            "[49]\tvalidation_0-logloss:0.08001\tvalidation_1-logloss:0.27245\n",
            "[50]\tvalidation_0-logloss:0.07784\tvalidation_1-logloss:0.27104\n",
            "[51]\tvalidation_0-logloss:0.07578\tvalidation_1-logloss:0.26958\n",
            "[52]\tvalidation_0-logloss:0.07384\tvalidation_1-logloss:0.26869\n",
            "[53]\tvalidation_0-logloss:0.07196\tvalidation_1-logloss:0.26760\n",
            "[54]\tvalidation_0-logloss:0.07021\tvalidation_1-logloss:0.26661\n",
            "[55]\tvalidation_0-logloss:0.06833\tvalidation_1-logloss:0.26680\n",
            "[56]\tvalidation_0-logloss:0.06671\tvalidation_1-logloss:0.26517\n",
            "[57]\tvalidation_0-logloss:0.06519\tvalidation_1-logloss:0.26412\n",
            "[58]\tvalidation_0-logloss:0.06368\tvalidation_1-logloss:0.26444\n",
            "[59]\tvalidation_0-logloss:0.06202\tvalidation_1-logloss:0.26434\n",
            "[60]\tvalidation_0-logloss:0.06048\tvalidation_1-logloss:0.26208\n",
            "[61]\tvalidation_0-logloss:0.05898\tvalidation_1-logloss:0.26139\n",
            "[62]\tvalidation_0-logloss:0.05756\tvalidation_1-logloss:0.26155\n",
            "[63]\tvalidation_0-logloss:0.05614\tvalidation_1-logloss:0.26114\n",
            "[64]\tvalidation_0-logloss:0.05486\tvalidation_1-logloss:0.25973\n",
            "[65]\tvalidation_0-logloss:0.05372\tvalidation_1-logloss:0.25878\n",
            "[66]\tvalidation_0-logloss:0.05263\tvalidation_1-logloss:0.25758\n",
            "[67]\tvalidation_0-logloss:0.05140\tvalidation_1-logloss:0.25664\n",
            "[68]\tvalidation_0-logloss:0.05019\tvalidation_1-logloss:0.25625\n",
            "[69]\tvalidation_0-logloss:0.04910\tvalidation_1-logloss:0.25593\n",
            "[70]\tvalidation_0-logloss:0.04806\tvalidation_1-logloss:0.25438\n",
            "[71]\tvalidation_0-logloss:0.04704\tvalidation_1-logloss:0.25373\n",
            "[72]\tvalidation_0-logloss:0.04606\tvalidation_1-logloss:0.25411\n",
            "[73]\tvalidation_0-logloss:0.04514\tvalidation_1-logloss:0.25316\n",
            "[74]\tvalidation_0-logloss:0.04435\tvalidation_1-logloss:0.25248\n",
            "[75]\tvalidation_0-logloss:0.04347\tvalidation_1-logloss:0.25271\n",
            "[76]\tvalidation_0-logloss:0.04260\tvalidation_1-logloss:0.25282\n",
            "[77]\tvalidation_0-logloss:0.04178\tvalidation_1-logloss:0.25165\n",
            "[78]\tvalidation_0-logloss:0.04099\tvalidation_1-logloss:0.25181\n",
            "[79]\tvalidation_0-logloss:0.04022\tvalidation_1-logloss:0.25210\n",
            "[80]\tvalidation_0-logloss:0.03942\tvalidation_1-logloss:0.25194\n",
            "[81]\tvalidation_0-logloss:0.03875\tvalidation_1-logloss:0.25254\n",
            "[82]\tvalidation_0-logloss:0.03799\tvalidation_1-logloss:0.25264\n",
            "[83]\tvalidation_0-logloss:0.03727\tvalidation_1-logloss:0.25280\n",
            "[84]\tvalidation_0-logloss:0.03657\tvalidation_1-logloss:0.25281\n",
            "[85]\tvalidation_0-logloss:0.03586\tvalidation_1-logloss:0.25219\n",
            "[86]\tvalidation_0-logloss:0.03530\tvalidation_1-logloss:0.25288\n",
            "[87]\tvalidation_0-logloss:0.03464\tvalidation_1-logloss:0.25226\n",
            "[88]\tvalidation_0-logloss:0.03401\tvalidation_1-logloss:0.25167\n",
            "[89]\tvalidation_0-logloss:0.03347\tvalidation_1-logloss:0.25258\n",
            "[90]\tvalidation_0-logloss:0.03297\tvalidation_1-logloss:0.25331\n",
            "[91]\tvalidation_0-logloss:0.03240\tvalidation_1-logloss:0.25373\n",
            "[92]\tvalidation_0-logloss:0.03184\tvalidation_1-logloss:0.25323\n",
            "[93]\tvalidation_0-logloss:0.03136\tvalidation_1-logloss:0.25240\n",
            "[94]\tvalidation_0-logloss:0.03086\tvalidation_1-logloss:0.25324\n",
            "[95]\tvalidation_0-logloss:0.03035\tvalidation_1-logloss:0.25280\n",
            "[96]\tvalidation_0-logloss:0.02985\tvalidation_1-logloss:0.25215\n",
            "[97]\tvalidation_0-logloss:0.02937\tvalidation_1-logloss:0.25179\n",
            "[98]\tvalidation_0-logloss:0.02892\tvalidation_1-logloss:0.25143\n",
            "[99]\tvalidation_0-logloss:0.02853\tvalidation_1-logloss:0.25180\n",
            "[100]\tvalidation_0-logloss:0.02810\tvalidation_1-logloss:0.25151\n",
            "[101]\tvalidation_0-logloss:0.02769\tvalidation_1-logloss:0.25158\n",
            "[102]\tvalidation_0-logloss:0.02729\tvalidation_1-logloss:0.25130\n",
            "[103]\tvalidation_0-logloss:0.02689\tvalidation_1-logloss:0.25094\n",
            "[104]\tvalidation_0-logloss:0.02654\tvalidation_1-logloss:0.25054\n",
            "[105]\tvalidation_0-logloss:0.02617\tvalidation_1-logloss:0.25030\n",
            "[106]\tvalidation_0-logloss:0.02580\tvalidation_1-logloss:0.24850\n",
            "[107]\tvalidation_0-logloss:0.02545\tvalidation_1-logloss:0.24829\n",
            "[108]\tvalidation_0-logloss:0.02509\tvalidation_1-logloss:0.24828\n",
            "[109]\tvalidation_0-logloss:0.02475\tvalidation_1-logloss:0.24881\n",
            "[110]\tvalidation_0-logloss:0.02443\tvalidation_1-logloss:0.24912\n",
            "[111]\tvalidation_0-logloss:0.02405\tvalidation_1-logloss:0.24791\n",
            "[112]\tvalidation_0-logloss:0.02374\tvalidation_1-logloss:0.24846\n",
            "[113]\tvalidation_0-logloss:0.02341\tvalidation_1-logloss:0.24931\n",
            "[114]\tvalidation_0-logloss:0.02314\tvalidation_1-logloss:0.24832\n",
            "[115]\tvalidation_0-logloss:0.02286\tvalidation_1-logloss:0.24889\n",
            "[116]\tvalidation_0-logloss:0.02255\tvalidation_1-logloss:0.24866\n",
            "[117]\tvalidation_0-logloss:0.02227\tvalidation_1-logloss:0.24925\n",
            "[118]\tvalidation_0-logloss:0.02197\tvalidation_1-logloss:0.24679\n",
            "[119]\tvalidation_0-logloss:0.02172\tvalidation_1-logloss:0.24787\n",
            "[120]\tvalidation_0-logloss:0.02141\tvalidation_1-logloss:0.24846\n",
            "[121]\tvalidation_0-logloss:0.02112\tvalidation_1-logloss:0.24683\n",
            "[122]\tvalidation_0-logloss:0.02088\tvalidation_1-logloss:0.24650\n",
            "[123]\tvalidation_0-logloss:0.02061\tvalidation_1-logloss:0.24497\n",
            "[124]\tvalidation_0-logloss:0.02037\tvalidation_1-logloss:0.24529\n",
            "[125]\tvalidation_0-logloss:0.02012\tvalidation_1-logloss:0.24516\n",
            "[126]\tvalidation_0-logloss:0.01987\tvalidation_1-logloss:0.24576\n",
            "[127]\tvalidation_0-logloss:0.01967\tvalidation_1-logloss:0.24576\n",
            "[128]\tvalidation_0-logloss:0.01943\tvalidation_1-logloss:0.24563\n",
            "[129]\tvalidation_0-logloss:0.01922\tvalidation_1-logloss:0.24533\n",
            "[130]\tvalidation_0-logloss:0.01900\tvalidation_1-logloss:0.24591\n",
            "[131]\tvalidation_0-logloss:0.01881\tvalidation_1-logloss:0.24593\n",
            "[132]\tvalidation_0-logloss:0.01858\tvalidation_1-logloss:0.24582\n",
            "[133]\tvalidation_0-logloss:0.01839\tvalidation_1-logloss:0.24619\n",
            "[134]\tvalidation_0-logloss:0.01824\tvalidation_1-logloss:0.24631\n",
            "[135]\tvalidation_0-logloss:0.01805\tvalidation_1-logloss:0.24669\n",
            "[136]\tvalidation_0-logloss:0.01785\tvalidation_1-logloss:0.24660\n",
            "[137]\tvalidation_0-logloss:0.01770\tvalidation_1-logloss:0.24584\n",
            "[138]\tvalidation_0-logloss:0.01753\tvalidation_1-logloss:0.24465\n",
            "[139]\tvalidation_0-logloss:0.01734\tvalidation_1-logloss:0.24458\n",
            "[140]\tvalidation_0-logloss:0.01720\tvalidation_1-logloss:0.24385\n",
            "[141]\tvalidation_0-logloss:0.01703\tvalidation_1-logloss:0.24422\n",
            "[142]\tvalidation_0-logloss:0.01690\tvalidation_1-logloss:0.24423\n",
            "[143]\tvalidation_0-logloss:0.01673\tvalidation_1-logloss:0.24408\n",
            "[144]\tvalidation_0-logloss:0.01655\tvalidation_1-logloss:0.24381\n",
            "[145]\tvalidation_0-logloss:0.01641\tvalidation_1-logloss:0.24311\n",
            "[146]\tvalidation_0-logloss:0.01629\tvalidation_1-logloss:0.24322\n",
            "[147]\tvalidation_0-logloss:0.01614\tvalidation_1-logloss:0.24360\n",
            "[148]\tvalidation_0-logloss:0.01597\tvalidation_1-logloss:0.24328\n",
            "[149]\tvalidation_0-logloss:0.01582\tvalidation_1-logloss:0.24314\n",
            "[150]\tvalidation_0-logloss:0.01571\tvalidation_1-logloss:0.24315\n",
            "[151]\tvalidation_0-logloss:0.01556\tvalidation_1-logloss:0.24289\n",
            "[152]\tvalidation_0-logloss:0.01537\tvalidation_1-logloss:0.24363\n",
            "[153]\tvalidation_0-logloss:0.01523\tvalidation_1-logloss:0.24404\n",
            "[154]\tvalidation_0-logloss:0.01510\tvalidation_1-logloss:0.24383\n",
            "[155]\tvalidation_0-logloss:0.01493\tvalidation_1-logloss:0.24435\n",
            "[156]\tvalidation_0-logloss:0.01478\tvalidation_1-logloss:0.24425\n",
            "[157]\tvalidation_0-logloss:0.01467\tvalidation_1-logloss:0.24361\n",
            "[158]\tvalidation_0-logloss:0.01455\tvalidation_1-logloss:0.24294\n",
            "[159]\tvalidation_0-logloss:0.01440\tvalidation_1-logloss:0.24340\n",
            "[160]\tvalidation_0-logloss:0.01428\tvalidation_1-logloss:0.24323\n",
            "[161]\tvalidation_0-logloss:0.01417\tvalidation_1-logloss:0.24310\n",
            "[162]\tvalidation_0-logloss:0.01409\tvalidation_1-logloss:0.24247\n",
            "[163]\tvalidation_0-logloss:0.01393\tvalidation_1-logloss:0.24311\n",
            "[164]\tvalidation_0-logloss:0.01380\tvalidation_1-logloss:0.24269\n",
            "[165]\tvalidation_0-logloss:0.01368\tvalidation_1-logloss:0.24268\n",
            "[166]\tvalidation_0-logloss:0.01360\tvalidation_1-logloss:0.24242\n",
            "[167]\tvalidation_0-logloss:0.01345\tvalidation_1-logloss:0.24306\n",
            "[168]\tvalidation_0-logloss:0.01335\tvalidation_1-logloss:0.24220\n",
            "[169]\tvalidation_0-logloss:0.01328\tvalidation_1-logloss:0.24116\n",
            "[170]\tvalidation_0-logloss:0.01317\tvalidation_1-logloss:0.24117\n",
            "[171]\tvalidation_0-logloss:0.01308\tvalidation_1-logloss:0.24126\n",
            "[172]\tvalidation_0-logloss:0.01299\tvalidation_1-logloss:0.24046\n",
            "[173]\tvalidation_0-logloss:0.01292\tvalidation_1-logloss:0.23993\n",
            "[174]\tvalidation_0-logloss:0.01284\tvalidation_1-logloss:0.23985\n",
            "[175]\tvalidation_0-logloss:0.01275\tvalidation_1-logloss:0.23994\n",
            "[176]\tvalidation_0-logloss:0.01268\tvalidation_1-logloss:0.23986\n",
            "[177]\tvalidation_0-logloss:0.01260\tvalidation_1-logloss:0.23996\n",
            "[178]\tvalidation_0-logloss:0.01253\tvalidation_1-logloss:0.23943\n",
            "[179]\tvalidation_0-logloss:0.01243\tvalidation_1-logloss:0.23847\n",
            "[180]\tvalidation_0-logloss:0.01236\tvalidation_1-logloss:0.23842\n",
            "[181]\tvalidation_0-logloss:0.01226\tvalidation_1-logloss:0.23885\n",
            "[182]\tvalidation_0-logloss:0.01220\tvalidation_1-logloss:0.23828\n",
            "[183]\tvalidation_0-logloss:0.01214\tvalidation_1-logloss:0.23892\n",
            "[184]\tvalidation_0-logloss:0.01205\tvalidation_1-logloss:0.23804\n",
            "[185]\tvalidation_0-logloss:0.01198\tvalidation_1-logloss:0.23799\n",
            "[186]\tvalidation_0-logloss:0.01191\tvalidation_1-logloss:0.23809\n",
            "[187]\tvalidation_0-logloss:0.01185\tvalidation_1-logloss:0.23752\n",
            "[188]\tvalidation_0-logloss:0.01176\tvalidation_1-logloss:0.23662\n",
            "[189]\tvalidation_0-logloss:0.01170\tvalidation_1-logloss:0.23659\n",
            "[190]\tvalidation_0-logloss:0.01163\tvalidation_1-logloss:0.23668\n",
            "[191]\tvalidation_0-logloss:0.01157\tvalidation_1-logloss:0.23732\n",
            "[192]\tvalidation_0-logloss:0.01152\tvalidation_1-logloss:0.23726\n",
            "[193]\tvalidation_0-logloss:0.01146\tvalidation_1-logloss:0.23722\n",
            "[194]\tvalidation_0-logloss:0.01141\tvalidation_1-logloss:0.23715\n",
            "[195]\tvalidation_0-logloss:0.01136\tvalidation_1-logloss:0.23661\n",
            "[196]\tvalidation_0-logloss:0.01128\tvalidation_1-logloss:0.23673\n",
            "[197]\tvalidation_0-logloss:0.01126\tvalidation_1-logloss:0.23651\n",
            "[198]\tvalidation_0-logloss:0.01120\tvalidation_1-logloss:0.23628\n",
            "[199]\tvalidation_0-logloss:0.01113\tvalidation_1-logloss:0.23641\n",
            "[200]\tvalidation_0-logloss:0.01108\tvalidation_1-logloss:0.23554\n",
            "[201]\tvalidation_0-logloss:0.01103\tvalidation_1-logloss:0.23533\n",
            "[202]\tvalidation_0-logloss:0.01097\tvalidation_1-logloss:0.23543\n",
            "[203]\tvalidation_0-logloss:0.01091\tvalidation_1-logloss:0.23546\n",
            "[204]\tvalidation_0-logloss:0.01086\tvalidation_1-logloss:0.23588\n",
            "[205]\tvalidation_0-logloss:0.01079\tvalidation_1-logloss:0.23600\n",
            "[206]\tvalidation_0-logloss:0.01074\tvalidation_1-logloss:0.23578\n",
            "[207]\tvalidation_0-logloss:0.01069\tvalidation_1-logloss:0.23597\n",
            "[208]\tvalidation_0-logloss:0.01064\tvalidation_1-logloss:0.23601\n",
            "[209]\tvalidation_0-logloss:0.01058\tvalidation_1-logloss:0.23613\n",
            "[210]\tvalidation_0-logloss:0.01054\tvalidation_1-logloss:0.23592\n",
            "[211]\tvalidation_0-logloss:0.01047\tvalidation_1-logloss:0.23605\n",
            "[212]\tvalidation_0-logloss:0.01045\tvalidation_1-logloss:0.23586\n",
            "[213]\tvalidation_0-logloss:0.01041\tvalidation_1-logloss:0.23626\n",
            "[214]\tvalidation_0-logloss:0.01036\tvalidation_1-logloss:0.23646\n",
            "[215]\tvalidation_0-logloss:0.01031\tvalidation_1-logloss:0.23649\n",
            "[216]\tvalidation_0-logloss:0.01026\tvalidation_1-logloss:0.23697\n",
            "[217]\tvalidation_0-logloss:0.01024\tvalidation_1-logloss:0.23679\n",
            "[218]\tvalidation_0-logloss:0.01019\tvalidation_1-logloss:0.23689\n",
            "[219]\tvalidation_0-logloss:0.01014\tvalidation_1-logloss:0.23693\n",
            "[220]\tvalidation_0-logloss:0.01011\tvalidation_1-logloss:0.23714\n",
            "[221]\tvalidation_0-logloss:0.01006\tvalidation_1-logloss:0.23732\n",
            "[222]\tvalidation_0-logloss:0.01004\tvalidation_1-logloss:0.23714\n",
            "[223]\tvalidation_0-logloss:0.01001\tvalidation_1-logloss:0.23736\n",
            "[224]\tvalidation_0-logloss:0.00999\tvalidation_1-logloss:0.23711\n",
            "[225]\tvalidation_0-logloss:0.00997\tvalidation_1-logloss:0.23703\n",
            "[226]\tvalidation_0-logloss:0.00994\tvalidation_1-logloss:0.23757\n",
            "[227]\tvalidation_0-logloss:0.00992\tvalidation_1-logloss:0.23740\n",
            "[228]\tvalidation_0-logloss:0.00986\tvalidation_1-logloss:0.23673\n",
            "[229]\tvalidation_0-logloss:0.00984\tvalidation_1-logloss:0.23649\n",
            "[230]\tvalidation_0-logloss:0.00981\tvalidation_1-logloss:0.23670\n",
            "[231]\tvalidation_0-logloss:0.00979\tvalidation_1-logloss:0.23653\n",
            "[232]\tvalidation_0-logloss:0.00975\tvalidation_1-logloss:0.23671\n",
            "[233]\tvalidation_0-logloss:0.00971\tvalidation_1-logloss:0.23674\n",
            "[234]\tvalidation_0-logloss:0.00968\tvalidation_1-logloss:0.23696\n",
            "[235]\tvalidation_0-logloss:0.00966\tvalidation_1-logloss:0.23673\n",
            "[236]\tvalidation_0-logloss:0.00964\tvalidation_1-logloss:0.23656\n",
            "[237]\tvalidation_0-logloss:0.00961\tvalidation_1-logloss:0.23708\n",
            "[238]\tvalidation_0-logloss:0.00957\tvalidation_1-logloss:0.23764\n",
            "[239]\tvalidation_0-logloss:0.00954\tvalidation_1-logloss:0.23766\n",
            "[240]\tvalidation_0-logloss:0.00949\tvalidation_1-logloss:0.23778\n",
            "[241]\tvalidation_0-logloss:0.00948\tvalidation_1-logloss:0.23775\n",
            "[242]\tvalidation_0-logloss:0.00945\tvalidation_1-logloss:0.23796\n",
            "[243]\tvalidation_0-logloss:0.00943\tvalidation_1-logloss:0.23780\n",
            "[244]\tvalidation_0-logloss:0.00941\tvalidation_1-logloss:0.23827\n",
            "[245]\tvalidation_0-logloss:0.00940\tvalidation_1-logloss:0.23819\n",
            "[246]\tvalidation_0-logloss:0.00937\tvalidation_1-logloss:0.23840\n",
            "[247]\tvalidation_0-logloss:0.00935\tvalidation_1-logloss:0.23838\n",
            "[248]\tvalidation_0-logloss:0.00933\tvalidation_1-logloss:0.23821\n",
            "[249]\tvalidation_0-logloss:0.00931\tvalidation_1-logloss:0.23872\n",
            "[250]\tvalidation_0-logloss:0.00925\tvalidation_1-logloss:0.23805\n",
            "[251]\tvalidation_0-logloss:0.00924\tvalidation_1-logloss:0.23783\n"
          ]
        }
      ]
    },
    {
      "cell_type": "code",
      "source": [
        "# early_stopping_rounds를 10으로 설정하고 재학습\n",
        "xgb_wrapper.fit(X_tr, y_tr, eval_set=evals, verbose=True)\n",
        "\n",
        "ws10_preds = xgb_wrapper.predict(X_test)\n",
        "ws10_pred_proba = xgb_wrapper.predict_proba(X_test)[:,1]\n",
        "get_clf_eval(y_test, ws10_preds, ws10_pred_proba)"
      ],
      "metadata": {
        "colab": {
          "base_uri": "https://localhost:8080/"
        },
        "id": "AgD8cvnPiUN9",
        "outputId": "7499d787-964f-4c01-a097-2bb05031db30"
      },
      "execution_count": 81,
      "outputs": [
        {
          "output_type": "stream",
          "name": "stdout",
          "text": [
            "[0]\tvalidation_0-logloss:0.62480\tvalidation_1-logloss:0.63104\n",
            "[1]\tvalidation_0-logloss:0.58674\tvalidation_1-logloss:0.60478\n",
            "[2]\tvalidation_0-logloss:0.55226\tvalidation_1-logloss:0.58223\n",
            "[3]\tvalidation_0-logloss:0.52086\tvalidation_1-logloss:0.56184\n",
            "[4]\tvalidation_0-logloss:0.49192\tvalidation_1-logloss:0.54118\n",
            "[5]\tvalidation_0-logloss:0.46537\tvalidation_1-logloss:0.52223\n",
            "[6]\tvalidation_0-logloss:0.44029\tvalidation_1-logloss:0.50287\n",
            "[7]\tvalidation_0-logloss:0.41666\tvalidation_1-logloss:0.48620\n",
            "[8]\tvalidation_0-logloss:0.39525\tvalidation_1-logloss:0.46974\n",
            "[9]\tvalidation_0-logloss:0.37542\tvalidation_1-logloss:0.45497\n",
            "[10]\tvalidation_0-logloss:0.35701\tvalidation_1-logloss:0.44131\n",
            "[11]\tvalidation_0-logloss:0.33982\tvalidation_1-logloss:0.43134\n",
            "[12]\tvalidation_0-logloss:0.32297\tvalidation_1-logloss:0.41972\n",
            "[13]\tvalidation_0-logloss:0.30725\tvalidation_1-logloss:0.40902\n",
            "[14]\tvalidation_0-logloss:0.29327\tvalidation_1-logloss:0.39883\n",
            "[15]\tvalidation_0-logloss:0.27946\tvalidation_1-logloss:0.38968\n",
            "[16]\tvalidation_0-logloss:0.26691\tvalidation_1-logloss:0.38150\n",
            "[17]\tvalidation_0-logloss:0.25473\tvalidation_1-logloss:0.37368\n",
            "[18]\tvalidation_0-logloss:0.24385\tvalidation_1-logloss:0.36666\n",
            "[19]\tvalidation_0-logloss:0.23338\tvalidation_1-logloss:0.35994\n",
            "[20]\tvalidation_0-logloss:0.22320\tvalidation_1-logloss:0.35374\n",
            "[21]\tvalidation_0-logloss:0.21363\tvalidation_1-logloss:0.34704\n",
            "[22]\tvalidation_0-logloss:0.20487\tvalidation_1-logloss:0.34206\n",
            "[23]\tvalidation_0-logloss:0.19634\tvalidation_1-logloss:0.33621\n",
            "[24]\tvalidation_0-logloss:0.18830\tvalidation_1-logloss:0.33178\n",
            "[25]\tvalidation_0-logloss:0.18093\tvalidation_1-logloss:0.32774\n",
            "[26]\tvalidation_0-logloss:0.17374\tvalidation_1-logloss:0.32297\n",
            "[27]\tvalidation_0-logloss:0.16695\tvalidation_1-logloss:0.31855\n",
            "[28]\tvalidation_0-logloss:0.16059\tvalidation_1-logloss:0.31495\n",
            "[29]\tvalidation_0-logloss:0.15450\tvalidation_1-logloss:0.31173\n",
            "[30]\tvalidation_0-logloss:0.14875\tvalidation_1-logloss:0.30735\n",
            "[31]\tvalidation_0-logloss:0.14329\tvalidation_1-logloss:0.30463\n",
            "[32]\tvalidation_0-logloss:0.13807\tvalidation_1-logloss:0.30242\n",
            "[33]\tvalidation_0-logloss:0.13325\tvalidation_1-logloss:0.29922\n",
            "[34]\tvalidation_0-logloss:0.12864\tvalidation_1-logloss:0.29722\n",
            "[35]\tvalidation_0-logloss:0.12429\tvalidation_1-logloss:0.29540\n",
            "[36]\tvalidation_0-logloss:0.12000\tvalidation_1-logloss:0.29300\n",
            "[37]\tvalidation_0-logloss:0.11581\tvalidation_1-logloss:0.29010\n",
            "[38]\tvalidation_0-logloss:0.11210\tvalidation_1-logloss:0.28883\n",
            "[39]\tvalidation_0-logloss:0.10838\tvalidation_1-logloss:0.28769\n",
            "[40]\tvalidation_0-logloss:0.10481\tvalidation_1-logloss:0.28574\n",
            "[41]\tvalidation_0-logloss:0.10160\tvalidation_1-logloss:0.28434\n",
            "[42]\tvalidation_0-logloss:0.09832\tvalidation_1-logloss:0.28226\n",
            "[43]\tvalidation_0-logloss:0.09534\tvalidation_1-logloss:0.28006\n",
            "[44]\tvalidation_0-logloss:0.09249\tvalidation_1-logloss:0.27854\n",
            "[45]\tvalidation_0-logloss:0.08972\tvalidation_1-logloss:0.27747\n",
            "[46]\tvalidation_0-logloss:0.08700\tvalidation_1-logloss:0.27654\n",
            "[47]\tvalidation_0-logloss:0.08461\tvalidation_1-logloss:0.27598\n",
            "[48]\tvalidation_0-logloss:0.08225\tvalidation_1-logloss:0.27415\n",
            "[49]\tvalidation_0-logloss:0.08001\tvalidation_1-logloss:0.27245\n",
            "[50]\tvalidation_0-logloss:0.07784\tvalidation_1-logloss:0.27104\n",
            "[51]\tvalidation_0-logloss:0.07578\tvalidation_1-logloss:0.26958\n",
            "[52]\tvalidation_0-logloss:0.07384\tvalidation_1-logloss:0.26869\n",
            "[53]\tvalidation_0-logloss:0.07196\tvalidation_1-logloss:0.26760\n",
            "[54]\tvalidation_0-logloss:0.07021\tvalidation_1-logloss:0.26661\n",
            "[55]\tvalidation_0-logloss:0.06833\tvalidation_1-logloss:0.26680\n",
            "[56]\tvalidation_0-logloss:0.06671\tvalidation_1-logloss:0.26517\n",
            "[57]\tvalidation_0-logloss:0.06519\tvalidation_1-logloss:0.26412\n",
            "[58]\tvalidation_0-logloss:0.06368\tvalidation_1-logloss:0.26444\n",
            "[59]\tvalidation_0-logloss:0.06202\tvalidation_1-logloss:0.26434\n",
            "[60]\tvalidation_0-logloss:0.06048\tvalidation_1-logloss:0.26208\n",
            "[61]\tvalidation_0-logloss:0.05898\tvalidation_1-logloss:0.26139\n",
            "[62]\tvalidation_0-logloss:0.05756\tvalidation_1-logloss:0.26155\n",
            "[63]\tvalidation_0-logloss:0.05614\tvalidation_1-logloss:0.26114\n",
            "[64]\tvalidation_0-logloss:0.05486\tvalidation_1-logloss:0.25973\n",
            "[65]\tvalidation_0-logloss:0.05372\tvalidation_1-logloss:0.25878\n",
            "[66]\tvalidation_0-logloss:0.05263\tvalidation_1-logloss:0.25758\n",
            "[67]\tvalidation_0-logloss:0.05140\tvalidation_1-logloss:0.25664\n",
            "[68]\tvalidation_0-logloss:0.05019\tvalidation_1-logloss:0.25625\n",
            "[69]\tvalidation_0-logloss:0.04910\tvalidation_1-logloss:0.25593\n",
            "[70]\tvalidation_0-logloss:0.04806\tvalidation_1-logloss:0.25438\n",
            "[71]\tvalidation_0-logloss:0.04704\tvalidation_1-logloss:0.25373\n",
            "[72]\tvalidation_0-logloss:0.04606\tvalidation_1-logloss:0.25411\n",
            "[73]\tvalidation_0-logloss:0.04514\tvalidation_1-logloss:0.25316\n",
            "[74]\tvalidation_0-logloss:0.04435\tvalidation_1-logloss:0.25248\n",
            "[75]\tvalidation_0-logloss:0.04347\tvalidation_1-logloss:0.25271\n",
            "[76]\tvalidation_0-logloss:0.04260\tvalidation_1-logloss:0.25282\n",
            "[77]\tvalidation_0-logloss:0.04178\tvalidation_1-logloss:0.25165\n",
            "[78]\tvalidation_0-logloss:0.04099\tvalidation_1-logloss:0.25181\n",
            "[79]\tvalidation_0-logloss:0.04022\tvalidation_1-logloss:0.25210\n",
            "[80]\tvalidation_0-logloss:0.03942\tvalidation_1-logloss:0.25194\n",
            "[81]\tvalidation_0-logloss:0.03875\tvalidation_1-logloss:0.25254\n",
            "[82]\tvalidation_0-logloss:0.03799\tvalidation_1-logloss:0.25264\n",
            "[83]\tvalidation_0-logloss:0.03727\tvalidation_1-logloss:0.25280\n",
            "[84]\tvalidation_0-logloss:0.03657\tvalidation_1-logloss:0.25281\n",
            "[85]\tvalidation_0-logloss:0.03586\tvalidation_1-logloss:0.25219\n",
            "[86]\tvalidation_0-logloss:0.03530\tvalidation_1-logloss:0.25288\n",
            "[87]\tvalidation_0-logloss:0.03464\tvalidation_1-logloss:0.25226\n",
            "[88]\tvalidation_0-logloss:0.03401\tvalidation_1-logloss:0.25167\n",
            "[89]\tvalidation_0-logloss:0.03347\tvalidation_1-logloss:0.25258\n",
            "[90]\tvalidation_0-logloss:0.03297\tvalidation_1-logloss:0.25331\n",
            "[91]\tvalidation_0-logloss:0.03240\tvalidation_1-logloss:0.25373\n",
            "[92]\tvalidation_0-logloss:0.03184\tvalidation_1-logloss:0.25323\n",
            "[93]\tvalidation_0-logloss:0.03136\tvalidation_1-logloss:0.25240\n",
            "[94]\tvalidation_0-logloss:0.03086\tvalidation_1-logloss:0.25324\n",
            "[95]\tvalidation_0-logloss:0.03035\tvalidation_1-logloss:0.25280\n",
            "[96]\tvalidation_0-logloss:0.02985\tvalidation_1-logloss:0.25215\n",
            "[97]\tvalidation_0-logloss:0.02937\tvalidation_1-logloss:0.25179\n",
            "[98]\tvalidation_0-logloss:0.02892\tvalidation_1-logloss:0.25143\n",
            "[99]\tvalidation_0-logloss:0.02853\tvalidation_1-logloss:0.25180\n",
            "[100]\tvalidation_0-logloss:0.02810\tvalidation_1-logloss:0.25151\n",
            "[101]\tvalidation_0-logloss:0.02769\tvalidation_1-logloss:0.25158\n",
            "[102]\tvalidation_0-logloss:0.02729\tvalidation_1-logloss:0.25130\n",
            "[103]\tvalidation_0-logloss:0.02689\tvalidation_1-logloss:0.25094\n",
            "[104]\tvalidation_0-logloss:0.02654\tvalidation_1-logloss:0.25054\n",
            "[105]\tvalidation_0-logloss:0.02617\tvalidation_1-logloss:0.25030\n",
            "[106]\tvalidation_0-logloss:0.02580\tvalidation_1-logloss:0.24850\n",
            "[107]\tvalidation_0-logloss:0.02545\tvalidation_1-logloss:0.24829\n",
            "[108]\tvalidation_0-logloss:0.02509\tvalidation_1-logloss:0.24828\n",
            "[109]\tvalidation_0-logloss:0.02475\tvalidation_1-logloss:0.24881\n",
            "[110]\tvalidation_0-logloss:0.02443\tvalidation_1-logloss:0.24912\n",
            "[111]\tvalidation_0-logloss:0.02405\tvalidation_1-logloss:0.24791\n",
            "[112]\tvalidation_0-logloss:0.02374\tvalidation_1-logloss:0.24846\n",
            "[113]\tvalidation_0-logloss:0.02341\tvalidation_1-logloss:0.24931\n",
            "[114]\tvalidation_0-logloss:0.02314\tvalidation_1-logloss:0.24832\n",
            "[115]\tvalidation_0-logloss:0.02286\tvalidation_1-logloss:0.24889\n",
            "[116]\tvalidation_0-logloss:0.02255\tvalidation_1-logloss:0.24866\n",
            "[117]\tvalidation_0-logloss:0.02227\tvalidation_1-logloss:0.24925\n",
            "[118]\tvalidation_0-logloss:0.02197\tvalidation_1-logloss:0.24679\n",
            "[119]\tvalidation_0-logloss:0.02172\tvalidation_1-logloss:0.24787\n",
            "[120]\tvalidation_0-logloss:0.02141\tvalidation_1-logloss:0.24846\n",
            "[121]\tvalidation_0-logloss:0.02112\tvalidation_1-logloss:0.24683\n",
            "[122]\tvalidation_0-logloss:0.02088\tvalidation_1-logloss:0.24650\n",
            "[123]\tvalidation_0-logloss:0.02061\tvalidation_1-logloss:0.24497\n",
            "[124]\tvalidation_0-logloss:0.02037\tvalidation_1-logloss:0.24529\n",
            "[125]\tvalidation_0-logloss:0.02012\tvalidation_1-logloss:0.24516\n",
            "[126]\tvalidation_0-logloss:0.01987\tvalidation_1-logloss:0.24576\n",
            "[127]\tvalidation_0-logloss:0.01967\tvalidation_1-logloss:0.24576\n",
            "[128]\tvalidation_0-logloss:0.01943\tvalidation_1-logloss:0.24563\n",
            "[129]\tvalidation_0-logloss:0.01922\tvalidation_1-logloss:0.24533\n",
            "[130]\tvalidation_0-logloss:0.01900\tvalidation_1-logloss:0.24591\n",
            "[131]\tvalidation_0-logloss:0.01881\tvalidation_1-logloss:0.24593\n",
            "[132]\tvalidation_0-logloss:0.01858\tvalidation_1-logloss:0.24582\n",
            "[133]\tvalidation_0-logloss:0.01839\tvalidation_1-logloss:0.24619\n",
            "[134]\tvalidation_0-logloss:0.01824\tvalidation_1-logloss:0.24631\n",
            "[135]\tvalidation_0-logloss:0.01805\tvalidation_1-logloss:0.24669\n",
            "[136]\tvalidation_0-logloss:0.01785\tvalidation_1-logloss:0.24660\n",
            "[137]\tvalidation_0-logloss:0.01770\tvalidation_1-logloss:0.24584\n",
            "[138]\tvalidation_0-logloss:0.01753\tvalidation_1-logloss:0.24465\n",
            "[139]\tvalidation_0-logloss:0.01734\tvalidation_1-logloss:0.24458\n",
            "[140]\tvalidation_0-logloss:0.01720\tvalidation_1-logloss:0.24385\n",
            "[141]\tvalidation_0-logloss:0.01703\tvalidation_1-logloss:0.24422\n",
            "[142]\tvalidation_0-logloss:0.01690\tvalidation_1-logloss:0.24423\n",
            "[143]\tvalidation_0-logloss:0.01673\tvalidation_1-logloss:0.24408\n",
            "[144]\tvalidation_0-logloss:0.01655\tvalidation_1-logloss:0.24381\n",
            "[145]\tvalidation_0-logloss:0.01641\tvalidation_1-logloss:0.24311\n",
            "[146]\tvalidation_0-logloss:0.01629\tvalidation_1-logloss:0.24322\n",
            "[147]\tvalidation_0-logloss:0.01614\tvalidation_1-logloss:0.24360\n",
            "[148]\tvalidation_0-logloss:0.01597\tvalidation_1-logloss:0.24328\n",
            "[149]\tvalidation_0-logloss:0.01582\tvalidation_1-logloss:0.24314\n",
            "[150]\tvalidation_0-logloss:0.01571\tvalidation_1-logloss:0.24315\n",
            "[151]\tvalidation_0-logloss:0.01556\tvalidation_1-logloss:0.24289\n",
            "[152]\tvalidation_0-logloss:0.01537\tvalidation_1-logloss:0.24363\n",
            "[153]\tvalidation_0-logloss:0.01523\tvalidation_1-logloss:0.24404\n",
            "[154]\tvalidation_0-logloss:0.01510\tvalidation_1-logloss:0.24383\n",
            "[155]\tvalidation_0-logloss:0.01493\tvalidation_1-logloss:0.24435\n",
            "[156]\tvalidation_0-logloss:0.01478\tvalidation_1-logloss:0.24425\n",
            "[157]\tvalidation_0-logloss:0.01467\tvalidation_1-logloss:0.24361\n",
            "[158]\tvalidation_0-logloss:0.01455\tvalidation_1-logloss:0.24294\n",
            "[159]\tvalidation_0-logloss:0.01440\tvalidation_1-logloss:0.24340\n",
            "[160]\tvalidation_0-logloss:0.01428\tvalidation_1-logloss:0.24323\n",
            "[161]\tvalidation_0-logloss:0.01417\tvalidation_1-logloss:0.24310\n",
            "[162]\tvalidation_0-logloss:0.01409\tvalidation_1-logloss:0.24247\n",
            "[163]\tvalidation_0-logloss:0.01393\tvalidation_1-logloss:0.24311\n",
            "[164]\tvalidation_0-logloss:0.01380\tvalidation_1-logloss:0.24269\n",
            "[165]\tvalidation_0-logloss:0.01368\tvalidation_1-logloss:0.24268\n",
            "[166]\tvalidation_0-logloss:0.01360\tvalidation_1-logloss:0.24242\n",
            "[167]\tvalidation_0-logloss:0.01345\tvalidation_1-logloss:0.24306\n",
            "[168]\tvalidation_0-logloss:0.01335\tvalidation_1-logloss:0.24220\n",
            "[169]\tvalidation_0-logloss:0.01328\tvalidation_1-logloss:0.24116\n",
            "[170]\tvalidation_0-logloss:0.01317\tvalidation_1-logloss:0.24117\n",
            "[171]\tvalidation_0-logloss:0.01308\tvalidation_1-logloss:0.24126\n",
            "[172]\tvalidation_0-logloss:0.01299\tvalidation_1-logloss:0.24046\n",
            "[173]\tvalidation_0-logloss:0.01292\tvalidation_1-logloss:0.23993\n",
            "[174]\tvalidation_0-logloss:0.01284\tvalidation_1-logloss:0.23985\n",
            "[175]\tvalidation_0-logloss:0.01275\tvalidation_1-logloss:0.23994\n",
            "[176]\tvalidation_0-logloss:0.01268\tvalidation_1-logloss:0.23986\n",
            "[177]\tvalidation_0-logloss:0.01260\tvalidation_1-logloss:0.23996\n",
            "[178]\tvalidation_0-logloss:0.01253\tvalidation_1-logloss:0.23943\n",
            "[179]\tvalidation_0-logloss:0.01243\tvalidation_1-logloss:0.23847\n",
            "[180]\tvalidation_0-logloss:0.01236\tvalidation_1-logloss:0.23842\n",
            "[181]\tvalidation_0-logloss:0.01226\tvalidation_1-logloss:0.23885\n",
            "[182]\tvalidation_0-logloss:0.01220\tvalidation_1-logloss:0.23828\n",
            "[183]\tvalidation_0-logloss:0.01214\tvalidation_1-logloss:0.23892\n",
            "[184]\tvalidation_0-logloss:0.01205\tvalidation_1-logloss:0.23804\n",
            "[185]\tvalidation_0-logloss:0.01198\tvalidation_1-logloss:0.23799\n",
            "[186]\tvalidation_0-logloss:0.01191\tvalidation_1-logloss:0.23809\n",
            "[187]\tvalidation_0-logloss:0.01185\tvalidation_1-logloss:0.23752\n",
            "[188]\tvalidation_0-logloss:0.01176\tvalidation_1-logloss:0.23662\n",
            "[189]\tvalidation_0-logloss:0.01170\tvalidation_1-logloss:0.23659\n",
            "[190]\tvalidation_0-logloss:0.01163\tvalidation_1-logloss:0.23668\n",
            "[191]\tvalidation_0-logloss:0.01157\tvalidation_1-logloss:0.23732\n",
            "[192]\tvalidation_0-logloss:0.01152\tvalidation_1-logloss:0.23726\n",
            "[193]\tvalidation_0-logloss:0.01146\tvalidation_1-logloss:0.23722\n",
            "[194]\tvalidation_0-logloss:0.01141\tvalidation_1-logloss:0.23715\n",
            "[195]\tvalidation_0-logloss:0.01136\tvalidation_1-logloss:0.23661\n",
            "[196]\tvalidation_0-logloss:0.01128\tvalidation_1-logloss:0.23673\n",
            "[197]\tvalidation_0-logloss:0.01126\tvalidation_1-logloss:0.23651\n",
            "[198]\tvalidation_0-logloss:0.01120\tvalidation_1-logloss:0.23628\n",
            "[199]\tvalidation_0-logloss:0.01113\tvalidation_1-logloss:0.23641\n",
            "[200]\tvalidation_0-logloss:0.01108\tvalidation_1-logloss:0.23554\n",
            "[201]\tvalidation_0-logloss:0.01103\tvalidation_1-logloss:0.23533\n",
            "[202]\tvalidation_0-logloss:0.01097\tvalidation_1-logloss:0.23543\n",
            "[203]\tvalidation_0-logloss:0.01091\tvalidation_1-logloss:0.23546\n",
            "[204]\tvalidation_0-logloss:0.01086\tvalidation_1-logloss:0.23588\n",
            "[205]\tvalidation_0-logloss:0.01079\tvalidation_1-logloss:0.23600\n",
            "[206]\tvalidation_0-logloss:0.01074\tvalidation_1-logloss:0.23578\n",
            "[207]\tvalidation_0-logloss:0.01069\tvalidation_1-logloss:0.23597\n",
            "[208]\tvalidation_0-logloss:0.01064\tvalidation_1-logloss:0.23601\n",
            "[209]\tvalidation_0-logloss:0.01058\tvalidation_1-logloss:0.23613\n",
            "[210]\tvalidation_0-logloss:0.01054\tvalidation_1-logloss:0.23592\n",
            "[211]\tvalidation_0-logloss:0.01047\tvalidation_1-logloss:0.23605\n",
            "[212]\tvalidation_0-logloss:0.01045\tvalidation_1-logloss:0.23586\n",
            "[213]\tvalidation_0-logloss:0.01041\tvalidation_1-logloss:0.23626\n",
            "[214]\tvalidation_0-logloss:0.01036\tvalidation_1-logloss:0.23646\n",
            "[215]\tvalidation_0-logloss:0.01031\tvalidation_1-logloss:0.23649\n",
            "[216]\tvalidation_0-logloss:0.01026\tvalidation_1-logloss:0.23697\n",
            "[217]\tvalidation_0-logloss:0.01024\tvalidation_1-logloss:0.23679\n",
            "[218]\tvalidation_0-logloss:0.01019\tvalidation_1-logloss:0.23689\n",
            "[219]\tvalidation_0-logloss:0.01014\tvalidation_1-logloss:0.23693\n",
            "[220]\tvalidation_0-logloss:0.01011\tvalidation_1-logloss:0.23714\n",
            "[221]\tvalidation_0-logloss:0.01006\tvalidation_1-logloss:0.23732\n",
            "[222]\tvalidation_0-logloss:0.01004\tvalidation_1-logloss:0.23714\n",
            "[223]\tvalidation_0-logloss:0.01001\tvalidation_1-logloss:0.23736\n",
            "[224]\tvalidation_0-logloss:0.00999\tvalidation_1-logloss:0.23711\n",
            "[225]\tvalidation_0-logloss:0.00997\tvalidation_1-logloss:0.23703\n",
            "[226]\tvalidation_0-logloss:0.00994\tvalidation_1-logloss:0.23757\n",
            "[227]\tvalidation_0-logloss:0.00992\tvalidation_1-logloss:0.23740\n",
            "[228]\tvalidation_0-logloss:0.00986\tvalidation_1-logloss:0.23673\n",
            "[229]\tvalidation_0-logloss:0.00984\tvalidation_1-logloss:0.23649\n",
            "[230]\tvalidation_0-logloss:0.00981\tvalidation_1-logloss:0.23670\n",
            "[231]\tvalidation_0-logloss:0.00979\tvalidation_1-logloss:0.23653\n",
            "[232]\tvalidation_0-logloss:0.00975\tvalidation_1-logloss:0.23671\n",
            "[233]\tvalidation_0-logloss:0.00971\tvalidation_1-logloss:0.23674\n",
            "[234]\tvalidation_0-logloss:0.00968\tvalidation_1-logloss:0.23696\n",
            "[235]\tvalidation_0-logloss:0.00966\tvalidation_1-logloss:0.23673\n",
            "[236]\tvalidation_0-logloss:0.00964\tvalidation_1-logloss:0.23656\n",
            "[237]\tvalidation_0-logloss:0.00961\tvalidation_1-logloss:0.23708\n",
            "[238]\tvalidation_0-logloss:0.00957\tvalidation_1-logloss:0.23764\n",
            "[239]\tvalidation_0-logloss:0.00954\tvalidation_1-logloss:0.23766\n",
            "[240]\tvalidation_0-logloss:0.00949\tvalidation_1-logloss:0.23778\n",
            "[241]\tvalidation_0-logloss:0.00948\tvalidation_1-logloss:0.23775\n",
            "[242]\tvalidation_0-logloss:0.00945\tvalidation_1-logloss:0.23796\n",
            "[243]\tvalidation_0-logloss:0.00943\tvalidation_1-logloss:0.23780\n",
            "[244]\tvalidation_0-logloss:0.00941\tvalidation_1-logloss:0.23827\n",
            "[245]\tvalidation_0-logloss:0.00940\tvalidation_1-logloss:0.23819\n",
            "[246]\tvalidation_0-logloss:0.00937\tvalidation_1-logloss:0.23840\n",
            "[247]\tvalidation_0-logloss:0.00935\tvalidation_1-logloss:0.23838\n",
            "[248]\tvalidation_0-logloss:0.00933\tvalidation_1-logloss:0.23821\n",
            "[249]\tvalidation_0-logloss:0.00931\tvalidation_1-logloss:0.23872\n",
            "[250]\tvalidation_0-logloss:0.00925\tvalidation_1-logloss:0.23805\n",
            "오차 행렬\n",
            "[[35  2]\n",
            " [ 2 75]]\n",
            "정확도: 0.9649, 정밀도: 0.9740, 재현율: 0.9740,   F1： 0.9740, AUC：0.9961\n"
          ]
        }
      ]
    },
    {
      "cell_type": "code",
      "source": [
        "# early_stopping_rounds를 10으로 설정하고 재학습.\n",
        "xgb_wrapper.fit(X_tr, y_tr, early_stopping_rounds=10, eval_metric='logloss', eval_set=evals, verbose=True)\n",
        "\n",
        "ws10_preds = xgb_wrapper.predict(X_test)\n",
        "ws10_pred_proba = xgb_wrapper.predict_proba(X_test)[:, 1]\n",
        "get_clf_eval(y_test, ws10_preds, ws10_pred_proba)"
      ],
      "metadata": {
        "colab": {
          "base_uri": "https://localhost:8080/",
          "height": 343
        },
        "id": "j3QzS7HBVdNW",
        "outputId": "d0fb368f-7057-4094-d1b9-2a8a7a666233"
      },
      "execution_count": 87,
      "outputs": [
        {
          "output_type": "error",
          "ename": "TypeError",
          "evalue": "XGBClassifier.fit() got an unexpected keyword argument 'early_stopping_rounds'",
          "traceback": [
            "\u001b[0;31m---------------------------------------------------------------------------\u001b[0m",
            "\u001b[0;31mTypeError\u001b[0m                                 Traceback (most recent call last)",
            "\u001b[0;32m<ipython-input-87-f247d1afcee1>\u001b[0m in \u001b[0;36m<cell line: 0>\u001b[0;34m()\u001b[0m\n\u001b[1;32m      1\u001b[0m \u001b[0;31m# early_stopping_rounds를 10으로 설정하고 재학습.\u001b[0m\u001b[0;34m\u001b[0m\u001b[0;34m\u001b[0m\u001b[0m\n\u001b[0;32m----> 2\u001b[0;31m \u001b[0mxgb_wrapper\u001b[0m\u001b[0;34m.\u001b[0m\u001b[0mfit\u001b[0m\u001b[0;34m(\u001b[0m\u001b[0mX_tr\u001b[0m\u001b[0;34m,\u001b[0m \u001b[0my_tr\u001b[0m\u001b[0;34m,\u001b[0m \u001b[0mearly_stopping_rounds\u001b[0m\u001b[0;34m=\u001b[0m\u001b[0;36m10\u001b[0m\u001b[0;34m,\u001b[0m \u001b[0meval_metric\u001b[0m\u001b[0;34m=\u001b[0m\u001b[0;34m'logloss'\u001b[0m\u001b[0;34m,\u001b[0m \u001b[0meval_set\u001b[0m\u001b[0;34m=\u001b[0m\u001b[0mevals\u001b[0m\u001b[0;34m,\u001b[0m \u001b[0mverbose\u001b[0m\u001b[0;34m=\u001b[0m\u001b[0;32mTrue\u001b[0m\u001b[0;34m)\u001b[0m\u001b[0;34m\u001b[0m\u001b[0;34m\u001b[0m\u001b[0m\n\u001b[0m\u001b[1;32m      3\u001b[0m \u001b[0;34m\u001b[0m\u001b[0m\n\u001b[1;32m      4\u001b[0m \u001b[0mws10_preds\u001b[0m \u001b[0;34m=\u001b[0m \u001b[0mxgb_wrapper\u001b[0m\u001b[0;34m.\u001b[0m\u001b[0mpredict\u001b[0m\u001b[0;34m(\u001b[0m\u001b[0mX_test\u001b[0m\u001b[0;34m)\u001b[0m\u001b[0;34m\u001b[0m\u001b[0;34m\u001b[0m\u001b[0m\n\u001b[1;32m      5\u001b[0m \u001b[0mws10_pred_proba\u001b[0m \u001b[0;34m=\u001b[0m \u001b[0mxgb_wrapper\u001b[0m\u001b[0;34m.\u001b[0m\u001b[0mpredict_proba\u001b[0m\u001b[0;34m(\u001b[0m\u001b[0mX_test\u001b[0m\u001b[0;34m)\u001b[0m\u001b[0;34m[\u001b[0m\u001b[0;34m:\u001b[0m\u001b[0;34m,\u001b[0m \u001b[0;36m1\u001b[0m\u001b[0;34m]\u001b[0m\u001b[0;34m\u001b[0m\u001b[0;34m\u001b[0m\u001b[0m\n",
            "\u001b[0;32m/usr/local/lib/python3.11/dist-packages/xgboost/core.py\u001b[0m in \u001b[0;36minner_f\u001b[0;34m(*args, **kwargs)\u001b[0m\n\u001b[1;32m    724\u001b[0m             \u001b[0;32mfor\u001b[0m \u001b[0mk\u001b[0m\u001b[0;34m,\u001b[0m \u001b[0marg\u001b[0m \u001b[0;32min\u001b[0m \u001b[0mzip\u001b[0m\u001b[0;34m(\u001b[0m\u001b[0msig\u001b[0m\u001b[0;34m.\u001b[0m\u001b[0mparameters\u001b[0m\u001b[0;34m,\u001b[0m \u001b[0margs\u001b[0m\u001b[0;34m)\u001b[0m\u001b[0;34m:\u001b[0m\u001b[0;34m\u001b[0m\u001b[0;34m\u001b[0m\u001b[0m\n\u001b[1;32m    725\u001b[0m                 \u001b[0mkwargs\u001b[0m\u001b[0;34m[\u001b[0m\u001b[0mk\u001b[0m\u001b[0;34m]\u001b[0m \u001b[0;34m=\u001b[0m \u001b[0marg\u001b[0m\u001b[0;34m\u001b[0m\u001b[0;34m\u001b[0m\u001b[0m\n\u001b[0;32m--> 726\u001b[0;31m             \u001b[0;32mreturn\u001b[0m \u001b[0mfunc\u001b[0m\u001b[0;34m(\u001b[0m\u001b[0;34m**\u001b[0m\u001b[0mkwargs\u001b[0m\u001b[0;34m)\u001b[0m\u001b[0;34m\u001b[0m\u001b[0;34m\u001b[0m\u001b[0m\n\u001b[0m\u001b[1;32m    727\u001b[0m \u001b[0;34m\u001b[0m\u001b[0m\n\u001b[1;32m    728\u001b[0m         \u001b[0;32mreturn\u001b[0m \u001b[0minner_f\u001b[0m\u001b[0;34m\u001b[0m\u001b[0;34m\u001b[0m\u001b[0m\n",
            "\u001b[0;31mTypeError\u001b[0m: XGBClassifier.fit() got an unexpected keyword argument 'early_stopping_rounds'"
          ]
        }
      ]
    },
    {
      "cell_type": "code",
      "source": [
        "from xgboost import plot_importance\n",
        "import matplotlib.pyplot as plt\n",
        "%matplotlib inline\n",
        "\n",
        "fig, ax = plt.subplots(figsize=(10, 12))\n",
        "# 사이킷런 래퍼 클래스를 입력해도 무방.\n",
        "plot_importance(xgb_wrapper, ax=ax)"
      ],
      "metadata": {
        "colab": {
          "base_uri": "https://localhost:8080/",
          "height": 1000
        },
        "id": "nnPwrwfLV-Xx",
        "outputId": "3f1ce9b0-c119-4698-cade-2749523d510d"
      },
      "execution_count": 88,
      "outputs": [
        {
          "output_type": "execute_result",
          "data": {
            "text/plain": [
              "<Axes: title={'center': 'Feature importance'}, xlabel='F score', ylabel='Features'>"
            ]
          },
          "metadata": {},
          "execution_count": 88
        },
        {
          "output_type": "display_data",
          "data": {
            "text/plain": [
              "<Figure size 1000x1200 with 1 Axes>"
            ],
            "image/png": "[encoded data removed]"
          },
          "metadata": {}
        }
      ]
    }
  ]
}